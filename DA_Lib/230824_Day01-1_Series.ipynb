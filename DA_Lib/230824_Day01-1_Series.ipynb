{
 "cells": [
  {
   "cell_type": "markdown",
   "id": "3226a7b2",
   "metadata": {},
   "source": [
    "## 230824 판다스 시작"
   ]
  },
  {
   "cell_type": "code",
   "execution_count": 1,
   "id": "65f20e45",
   "metadata": {},
   "outputs": [
    {
     "name": "stdout",
     "output_type": "stream",
     "text": [
      "Defaulting to user installation because normal site-packages is not writeable\n",
      "Requirement already satisfied: pandas in c:\\programdata\\anaconda3\\lib\\site-packages (1.5.3)\n",
      "Requirement already satisfied: numpy>=1.21.0 in c:\\programdata\\anaconda3\\lib\\site-packages (from pandas) (1.23.5)\n",
      "Requirement already satisfied: python-dateutil>=2.8.1 in c:\\programdata\\anaconda3\\lib\\site-packages (from pandas) (2.8.2)\n",
      "Requirement already satisfied: pytz>=2020.1 in c:\\programdata\\anaconda3\\lib\\site-packages (from pandas) (2022.7)\n",
      "Requirement already satisfied: six>=1.5 in c:\\programdata\\anaconda3\\lib\\site-packages (from python-dateutil>=2.8.1->pandas) (1.16.0)\n"
     ]
    }
   ],
   "source": [
    "!pip install pandas"
   ]
  },
  {
   "cell_type": "markdown",
   "id": "99120eed",
   "metadata": {},
   "source": [
    "#### 판다스 import 해오기"
   ]
  },
  {
   "cell_type": "code",
   "execution_count": 2,
   "id": "6aeeb100",
   "metadata": {},
   "outputs": [],
   "source": [
    "import pandas as pd"
   ]
  },
  {
   "cell_type": "code",
   "execution_count": 3,
   "id": "30492725",
   "metadata": {},
   "outputs": [
    {
     "name": "stdout",
     "output_type": "stream",
     "text": [
      "10\n"
     ]
    },
    {
     "data": {
      "text/plain": [
       "15"
      ]
     },
     "execution_count": 3,
     "metadata": {},
     "output_type": "execute_result"
    }
   ],
   "source": [
    "n = 10\n",
    "m = 15\n",
    "print(n)\n",
    "m"
   ]
  },
  {
   "cell_type": "markdown",
   "id": "16287512",
   "metadata": {},
   "source": [
    "## 1. 시리즈Series 다루기"
   ]
  },
  {
   "cell_type": "code",
   "execution_count": 4,
   "id": "f887d3fd",
   "metadata": {},
   "outputs": [
    {
     "data": {
      "text/plain": [
       "0    1\n",
       "1    2\n",
       "2    3\n",
       "3    4\n",
       "4    5\n",
       "dtype: int64"
      ]
     },
     "execution_count": 4,
     "metadata": {},
     "output_type": "execute_result"
    }
   ],
   "source": [
    "srdata = pd.Series([1, 2, 3, 4, 5])\n",
    "srdata"
   ]
  },
  {
   "cell_type": "code",
   "execution_count": 5,
   "id": "92c097eb",
   "metadata": {},
   "outputs": [
    {
     "data": {
      "text/plain": [
       "a    1\n",
       "b    2\n",
       "c    3\n",
       "d    4\n",
       "e    5\n",
       "dtype: int64"
      ]
     },
     "execution_count": 5,
     "metadata": {},
     "output_type": "execute_result"
    }
   ],
   "source": [
    "list_data = [1,2,3,4,5]\n",
    "list_name = [\"a\", \"b\", \"c\", \"d\", \"e\"]\n",
    "srdata2 = pd.Series(data = list_data, index = list_name)\n",
    "srdata2"
   ]
  },
  {
   "cell_type": "code",
   "execution_count": 6,
   "id": "63f838c8",
   "metadata": {},
   "outputs": [
    {
     "data": {
      "text/plain": [
       "Index(['a', 'b', 'c', 'd', 'e'], dtype='object')"
      ]
     },
     "execution_count": 6,
     "metadata": {},
     "output_type": "execute_result"
    }
   ],
   "source": [
    "srdata2.index"
   ]
  },
  {
   "cell_type": "code",
   "execution_count": 7,
   "id": "b2c84edb",
   "metadata": {},
   "outputs": [
    {
     "data": {
      "text/plain": [
       "array([1, 2, 3, 4, 5], dtype=int64)"
      ]
     },
     "execution_count": 7,
     "metadata": {},
     "output_type": "execute_result"
    }
   ],
   "source": [
    "srdata2.values"
   ]
  },
  {
   "cell_type": "code",
   "execution_count": 8,
   "id": "c5fabb8c",
   "metadata": {},
   "outputs": [
    {
     "data": {
      "text/plain": [
       "dtype('int64')"
      ]
     },
     "execution_count": 8,
     "metadata": {},
     "output_type": "execute_result"
    }
   ],
   "source": [
    "srdata2.dtype"
   ]
  },
  {
   "cell_type": "code",
   "execution_count": 9,
   "id": "efd0dd45",
   "metadata": {},
   "outputs": [
    {
     "data": {
      "text/plain": [
       "pandas.core.series.Series"
      ]
     },
     "execution_count": 9,
     "metadata": {},
     "output_type": "execute_result"
    }
   ],
   "source": [
    "type(srdata2)"
   ]
  },
  {
   "cell_type": "code",
   "execution_count": 10,
   "id": "8384ea8d",
   "metadata": {},
   "outputs": [
    {
     "data": {
      "text/plain": [
       "id\n",
       "a    1\n",
       "b    2\n",
       "c    3\n",
       "d    4\n",
       "e    5\n",
       "Name: value, dtype: int64"
      ]
     },
     "execution_count": 10,
     "metadata": {},
     "output_type": "execute_result"
    }
   ],
   "source": [
    "#값의 이름을 value로 지정\n",
    "srdata2.name = \"value\"\n",
    "#인덱스의 이름을 id로 지정\n",
    "srdata2.index.name = \"id\"\n",
    "srdata2"
   ]
  },
  {
   "cell_type": "markdown",
   "id": "c35cf966",
   "metadata": {},
   "source": [
    "## 딕셔너리를 시리즈로 변환하기"
   ]
  },
  {
   "cell_type": "code",
   "execution_count": 11,
   "id": "ef392dc0",
   "metadata": {},
   "outputs": [
    {
     "data": {
      "text/plain": [
       "a    1.0\n",
       "b    2.0\n",
       "c    3.0\n",
       "d    4.0\n",
       "e    5.0\n",
       "Name: dictData, dtype: float64"
      ]
     },
     "execution_count": 11,
     "metadata": {},
     "output_type": "execute_result"
    }
   ],
   "source": [
    "from pandas import Series\n",
    "dict_data = {\"a\":1, \"b\":2, \"c\":3, \"d\":4, \"e\":5}\n",
    "sr_dd = Series(dict_data, dtype=float, name=\"dictData\")\n",
    "sr_dd"
   ]
  },
  {
   "cell_type": "code",
   "execution_count": 12,
   "id": "ee09ca15",
   "metadata": {},
   "outputs": [
    {
     "data": {
      "text/plain": [
       "a    1.0\n",
       "b    2.0\n",
       "c    3.0\n",
       "d    4.0\n",
       "e    5.0\n",
       "f    NaN\n",
       "g    NaN\n",
       "h    NaN\n",
       "dtype: float64"
      ]
     },
     "execution_count": 12,
     "metadata": {},
     "output_type": "execute_result"
    }
   ],
   "source": [
    "indexes = [\"a\", \"b\", \"c\", \"d\", \"e\", \"f\", \"g\", \"h\"]\n",
    "sr_obj = Series(dict_data, index=indexes)\n",
    "sr_obj"
   ]
  },
  {
   "cell_type": "markdown",
   "id": "d982bf0a",
   "metadata": {},
   "source": [
    "### 튜플을 시리즈로 변환하기\n",
    "정수형 위치 인덱스 자동지정"
   ]
  },
  {
   "cell_type": "code",
   "execution_count": 13,
   "id": "35ccacbd",
   "metadata": {},
   "outputs": [
    {
     "data": {
      "text/plain": [
       "이름              영인\n",
       "생년월일    2010-05-04\n",
       "성별               여\n",
       "학생여부          True\n",
       "dtype: object"
      ]
     },
     "execution_count": 13,
     "metadata": {},
     "output_type": "execute_result"
    }
   ],
   "source": [
    "tup_data = ('영인', '2010-05-04', '여', True)\n",
    "srdata = Series(tup_data, index=['이름', '생년월일', '성별', '학생여부'])\n",
    "srdata"
   ]
  },
  {
   "cell_type": "markdown",
   "id": "04d15275",
   "metadata": {},
   "source": [
    "## 원소선택"
   ]
  },
  {
   "cell_type": "code",
   "execution_count": 14,
   "id": "3f5ed6e1",
   "metadata": {},
   "outputs": [
    {
     "data": {
      "text/plain": [
       "('영인', '영인')"
      ]
     },
     "execution_count": 14,
     "metadata": {},
     "output_type": "execute_result"
    }
   ],
   "source": [
    "srdata[0], srdata['이름']"
   ]
  },
  {
   "cell_type": "code",
   "execution_count": 15,
   "id": "65500602",
   "metadata": {},
   "outputs": [
    {
     "name": "stdout",
     "output_type": "stream",
     "text": [
      "생년월일    2010-05-04\n",
      "성별               여\n",
      "dtype: object \n",
      "\n",
      "생년월일    2010-05-04\n",
      "성별               여\n",
      "dtype: object\n"
     ]
    }
   ],
   "source": [
    "print(srdata[[1, 2]], '\\n')\n",
    "print(srdata[['생년월일', '성별']])"
   ]
  },
  {
   "cell_type": "markdown",
   "id": "0e381ab1",
   "metadata": {},
   "source": [
    "### Series에 index, list, index범위(slicing)가 들어갈 수 있음"
   ]
  },
  {
   "cell_type": "code",
   "execution_count": 16,
   "id": "cd538b06",
   "metadata": {},
   "outputs": [
    {
     "name": "stdout",
     "output_type": "stream",
     "text": [
      "생년월일    2010-05-04\n",
      "성별               여\n",
      "학생여부          True\n",
      "dtype: object \n",
      "\n",
      "생년월일    2010-05-04\n",
      "성별               여\n",
      "학생여부          True\n",
      "dtype: object\n"
     ]
    }
   ],
   "source": [
    "print(srdata[1:4],'\\n')\n",
    "print(srdata['생년월일' : '학생여부'])"
   ]
  },
  {
   "cell_type": "code",
   "execution_count": null,
   "id": "f5801d33",
   "metadata": {},
   "outputs": [],
   "source": []
  }
 ],
 "metadata": {
  "kernelspec": {
   "display_name": "Python 3 (ipykernel)",
   "language": "python",
   "name": "python3"
  },
  "language_info": {
   "codemirror_mode": {
    "name": "ipython",
    "version": 3
   },
   "file_extension": ".py",
   "mimetype": "text/x-python",
   "name": "python",
   "nbconvert_exporter": "python",
   "pygments_lexer": "ipython3",
   "version": "3.10.9"
  }
 },
 "nbformat": 4,
 "nbformat_minor": 5
}
