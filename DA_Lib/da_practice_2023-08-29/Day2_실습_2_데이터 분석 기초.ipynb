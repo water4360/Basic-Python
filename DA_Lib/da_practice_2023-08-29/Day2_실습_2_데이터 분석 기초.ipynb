{
 "cells": [
  {
   "cell_type": "markdown",
   "id": "e6e1f240",
   "metadata": {},
   "source": [
    "# [실습 순서]\n",
    "1. 파일로부터 DataFrame 생성\n",
    "1. Viewing Data\n",
    "1. Cleaning Data\n",
    "1. Finding Relationships (Correlation, Plotting)\n",
    "\n",
    "# 1. 파일로부터 DataFrame 생성"
   ]
  },
  {
   "cell_type": "markdown",
   "id": "a97b455f",
   "metadata": {},
   "source": [
    "## 1-1. CSV(Comma Seperated Value) 파일 : DataFrame = Pandas.**read_csv**(*filename*)"
   ]
  },
  {
   "cell_type": "code",
   "execution_count": 1,
   "id": "25302f6f",
   "metadata": {},
   "outputs": [
    {
     "name": "stderr",
     "output_type": "stream",
     "text": [
      "C:\\Users\\User\\AppData\\Local\\Temp\\ipykernel_8096\\2295792313.py:3: FutureWarning: In a future version of pandas all arguments of read_csv except for the argument 'filepath_or_buffer' will be keyword-only.\n",
      "  df = pd.read_csv('data.csv', 'r', encoding='UTF8')\n"
     ]
    }
   ],
   "source": [
    "import pandas as pd\n",
    "\n",
    "df = pd.read_csv('data.csv', 'r', encoding='UTF8')"
   ]
  },
  {
   "cell_type": "markdown",
   "id": "fe5bc3b8",
   "metadata": {},
   "source": [
    "## 1-2. JSON 파일 :  : DataFrame = Pandas.**read_json**(*filename*)\n",
    "* JSON 포맷은 파이썬의 Dictionary와 같은 구조로 파일이 없는 경우, dictionary에 저장하여 바로 loading 가능함"
   ]
  },
  {
   "cell_type": "code",
   "execution_count": null,
   "id": "2702bbf0",
   "metadata": {},
   "outputs": [],
   "source": []
  },
  {
   "cell_type": "markdown",
   "id": "8cc2ca7e",
   "metadata": {},
   "source": [
    "# 2. Viewing Data\n",
    "  * **to_string()** : string으로 변환하여 전체 데이터 확인하기\n",
    "  * **head**(*num_row*) : *num_row* = 5\n",
    "  * **tail**(*num_row*) : *num_row* = 5\n",
    "  * **info**() : null값 상황 확인\n",
    "  * *pandas*.**options.display.max_rows** : 한번에 출력가능한 maximum row의 수\n",
    " "
   ]
  },
  {
   "cell_type": "markdown",
   "id": "b43a26c2",
   "metadata": {},
   "source": [
    "## 2-1. String으로 전체 데이터 확인해 보기 : *dataframe*.to_string()"
   ]
  },
  {
   "cell_type": "code",
   "execution_count": null,
   "id": "0c46c178",
   "metadata": {},
   "outputs": [],
   "source": []
  },
  {
   "cell_type": "markdown",
   "id": "0efd5635",
   "metadata": {},
   "source": [
    "* DataFrame의 전체 row를 출력하도록 설정 : *pandas*.**options.display.max_rows**"
   ]
  },
  {
   "cell_type": "code",
   "execution_count": null,
   "id": "cb7b22d7",
   "metadata": {},
   "outputs": [],
   "source": []
  },
  {
   "cell_type": "code",
   "execution_count": null,
   "id": "3924b03a",
   "metadata": {},
   "outputs": [],
   "source": []
  },
  {
   "cell_type": "markdown",
   "id": "276faa25",
   "metadata": {},
   "source": [
    "## 2-2. 시작 및 마지막 데이터 확인 : head, tail"
   ]
  },
  {
   "cell_type": "code",
   "execution_count": null,
   "id": "293ac76e",
   "metadata": {},
   "outputs": [],
   "source": []
  },
  {
   "cell_type": "code",
   "execution_count": null,
   "id": "42a76b8e",
   "metadata": {},
   "outputs": [],
   "source": []
  },
  {
   "cell_type": "markdown",
   "id": "d1d5d98b",
   "metadata": {},
   "source": [
    "## 2-3. 전체적 정보 및 null값 항목 확인 : info"
   ]
  },
  {
   "cell_type": "code",
   "execution_count": null,
   "id": "f848bc42",
   "metadata": {
    "scrolled": false
   },
   "outputs": [],
   "source": []
  },
  {
   "cell_type": "markdown",
   "id": "58606586",
   "metadata": {},
   "source": [
    "## 2-4. 지정된 범위의 데이터 접근 : loc, iloc"
   ]
  },
  {
   "cell_type": "code",
   "execution_count": null,
   "id": "5a79106f",
   "metadata": {},
   "outputs": [],
   "source": []
  },
  {
   "cell_type": "code",
   "execution_count": null,
   "id": "e29f2df2",
   "metadata": {},
   "outputs": [],
   "source": []
  },
  {
   "cell_type": "code",
   "execution_count": null,
   "id": "eca01ae1",
   "metadata": {},
   "outputs": [],
   "source": []
  },
  {
   "cell_type": "markdown",
   "id": "efd9f9a2",
   "metadata": {},
   "source": [
    "#### [index label이 있는 경우]"
   ]
  },
  {
   "cell_type": "code",
   "execution_count": null,
   "id": "72cc8a20",
   "metadata": {},
   "outputs": [],
   "source": [
    "data = {\n",
    "  \"calories\": [420, 380, 390],\n",
    "  \"duration\": [50, 40, 45]\n",
    "}\n",
    "\n"
   ]
  },
  {
   "cell_type": "code",
   "execution_count": null,
   "id": "899ba14b",
   "metadata": {},
   "outputs": [],
   "source": []
  },
  {
   "cell_type": "code",
   "execution_count": null,
   "id": "788bf723",
   "metadata": {},
   "outputs": [],
   "source": []
  },
  {
   "cell_type": "markdown",
   "id": "b76f2836",
   "metadata": {},
   "source": [
    "# 2. Cleansing Data\n",
    "  - Empty Cells\n",
    "  - Data in wrong format\n",
    "  - Wrong data\n",
    "  - Duplicates"
   ]
  },
  {
   "cell_type": "markdown",
   "id": "ae47b1c4",
   "metadata": {},
   "source": [
    "## 2-1. Cleaning Empty Cells (null, NaN)\n",
    "  - Null값이 있는 row 삭제 : \n",
    "  - Empty Values를 새로운 값으로 채우기 : Mean, Median, Mode 등"
   ]
  },
  {
   "cell_type": "markdown",
   "id": "dd0b7035",
   "metadata": {},
   "source": [
    "### 2-1-1.  Null값이 있는 Row 삭제 : dropna\n",
    "  * *dataframe*.**dropna**(axis, how, thresh, subset, inplace)\n",
    "    - inplace = False\n",
    "    - subset = *List* (지정 된 범위에 null이 있을 경우 Row 삭제)"
   ]
  },
  {
   "cell_type": "code",
   "execution_count": null,
   "id": "8b95aa61",
   "metadata": {},
   "outputs": [],
   "source": []
  },
  {
   "cell_type": "markdown",
   "id": "508c2f2f",
   "metadata": {},
   "source": [
    "### 2-1-2. 새로운 값으로 채우기 : fillna\n",
    "* *dataframe*.**fillna**(**value**, method, axis, inplace, limit, downcast)\n",
    "    * inplace = False\n",
    "    * 특정 컬럼에 해당하는 값만 채우려는 경우 : DataFrame **[** *name* **]**.**fillna**(...)"
   ]
  },
  {
   "cell_type": "code",
   "execution_count": null,
   "id": "bb782cf9",
   "metadata": {},
   "outputs": [],
   "source": []
  },
  {
   "cell_type": "code",
   "execution_count": null,
   "id": "40da3423",
   "metadata": {},
   "outputs": [],
   "source": []
  },
  {
   "cell_type": "markdown",
   "id": "b37ce7d1",
   "metadata": {},
   "source": [
    "* mean, median, mode 값으로 채우기\n",
    "    - Mean - The average value\n",
    "    - Median - The mid point value\n",
    "    - Mode - The most common value -> index 0에 최빈값을 갖는 DataFrame 반환"
   ]
  },
  {
   "cell_type": "code",
   "execution_count": null,
   "id": "ee1b92b4",
   "metadata": {},
   "outputs": [],
   "source": []
  },
  {
   "cell_type": "code",
   "execution_count": null,
   "id": "d4afa167",
   "metadata": {},
   "outputs": [],
   "source": []
  },
  {
   "cell_type": "code",
   "execution_count": null,
   "id": "e46ba906",
   "metadata": {
    "scrolled": true
   },
   "outputs": [],
   "source": []
  },
  {
   "cell_type": "markdown",
   "id": "fa198c11",
   "metadata": {},
   "source": [
    "## 2-2. Cleaning Wrong Format\n",
    "* Correct Format으로 변환\n",
    "* 해당 Row 삭제"
   ]
  },
  {
   "cell_type": "code",
   "execution_count": null,
   "id": "5bfb2e33",
   "metadata": {},
   "outputs": [],
   "source": []
  },
  {
   "cell_type": "code",
   "execution_count": null,
   "id": "250a726e",
   "metadata": {
    "scrolled": false
   },
   "outputs": [],
   "source": []
  },
  {
   "cell_type": "markdown",
   "id": "5f044d9b",
   "metadata": {},
   "source": [
    "#### Date Format 통일하기\n",
    "* *pandas*.**to_datetime**(*dataframe*)"
   ]
  },
  {
   "cell_type": "code",
   "execution_count": null,
   "id": "376574a2",
   "metadata": {},
   "outputs": [],
   "source": []
  },
  {
   "cell_type": "markdown",
   "id": "34ce4f8d",
   "metadata": {},
   "source": [
    "#### Date 값이 null인 Row 삭제"
   ]
  },
  {
   "cell_type": "code",
   "execution_count": null,
   "id": "ba283834",
   "metadata": {},
   "outputs": [],
   "source": []
  },
  {
   "cell_type": "markdown",
   "id": "b591bf97",
   "metadata": {},
   "source": [
    "## 2-3. Cleaning Wrong Data\n",
    "* small data : 눈으로 확인하고 수정하기\n",
    "* 규칙을 정해서 수정하기\n",
    "* 해당 row 삭제하기"
   ]
  },
  {
   "cell_type": "markdown",
   "id": "c21759e0",
   "metadata": {},
   "source": [
    "#### 눈으로 확인 후 수정하기"
   ]
  },
  {
   "cell_type": "code",
   "execution_count": null,
   "id": "098c5fab",
   "metadata": {},
   "outputs": [],
   "source": []
  },
  {
   "cell_type": "code",
   "execution_count": null,
   "id": "b567328a",
   "metadata": {
    "scrolled": true
   },
   "outputs": [],
   "source": []
  },
  {
   "cell_type": "markdown",
   "id": "458f322c",
   "metadata": {},
   "source": [
    "#### 규칙을 정해서 수정하기"
   ]
  },
  {
   "cell_type": "code",
   "execution_count": null,
   "id": "f3ee3761",
   "metadata": {},
   "outputs": [],
   "source": []
  },
  {
   "cell_type": "markdown",
   "id": "b94bbbc9",
   "metadata": {},
   "source": [
    "#### 해당 Row 삭제"
   ]
  },
  {
   "cell_type": "code",
   "execution_count": null,
   "id": "564fba97",
   "metadata": {},
   "outputs": [],
   "source": []
  },
  {
   "cell_type": "markdown",
   "id": "d2985536",
   "metadata": {},
   "source": [
    "## 2-4. Removing Duplicates\n",
    "1. 중복값(duplicated values)확인 : *dataframe*.**duplicated**(subset, keep)\n",
    "1. 중복값 삭제"
   ]
  },
  {
   "cell_type": "code",
   "execution_count": null,
   "id": "38598b8e",
   "metadata": {},
   "outputs": [],
   "source": []
  },
  {
   "cell_type": "code",
   "execution_count": null,
   "id": "e125f35b",
   "metadata": {},
   "outputs": [],
   "source": []
  },
  {
   "cell_type": "markdown",
   "id": "c21f295b",
   "metadata": {},
   "source": [
    "# 3. Finding Relationship\n",
    "## 3-1. Correlation\n",
    "* *dataframe*.**corr**(method, min_periods)\n",
    "  - Pefect, Good, Bad relationship"
   ]
  },
  {
   "cell_type": "code",
   "execution_count": null,
   "id": "b3c9afc1",
   "metadata": {},
   "outputs": [],
   "source": []
  },
  {
   "cell_type": "code",
   "execution_count": null,
   "id": "c1084fc0",
   "metadata": {},
   "outputs": [],
   "source": []
  },
  {
   "cell_type": "markdown",
   "id": "4bb562ac",
   "metadata": {},
   "source": [
    "## 3-2. Plotting\n",
    "* *DataFrame*.**plot**(kind=*type*, x=*x-value*, y=*y-value*)"
   ]
  },
  {
   "cell_type": "code",
   "execution_count": null,
   "id": "71960bfc",
   "metadata": {},
   "outputs": [],
   "source": []
  },
  {
   "cell_type": "markdown",
   "id": "d8e01e25",
   "metadata": {},
   "source": [
    "* Scatter : Duration - Calories, Duration - Pulse, Duration - Maxpulse"
   ]
  },
  {
   "cell_type": "code",
   "execution_count": null,
   "id": "db1ce42f",
   "metadata": {},
   "outputs": [],
   "source": []
  },
  {
   "cell_type": "code",
   "execution_count": null,
   "id": "33f480d6",
   "metadata": {},
   "outputs": [],
   "source": []
  },
  {
   "cell_type": "code",
   "execution_count": null,
   "id": "8b2b2a95",
   "metadata": {
    "scrolled": true
   },
   "outputs": [],
   "source": []
  },
  {
   "cell_type": "markdown",
   "id": "745f7808",
   "metadata": {},
   "source": [
    "* Histogram for 'Duration'"
   ]
  },
  {
   "cell_type": "code",
   "execution_count": null,
   "id": "5bd7262c",
   "metadata": {},
   "outputs": [],
   "source": []
  }
 ],
 "metadata": {
  "kernelspec": {
   "display_name": "Python 3 (ipykernel)",
   "language": "python",
   "name": "python3"
  },
  "language_info": {
   "codemirror_mode": {
    "name": "ipython",
    "version": 3
   },
   "file_extension": ".py",
   "mimetype": "text/x-python",
   "name": "python",
   "nbconvert_exporter": "python",
   "pygments_lexer": "ipython3",
   "version": "3.10.9"
  }
 },
 "nbformat": 4,
 "nbformat_minor": 5
}
