{
 "cells": [
  {
   "cell_type": "markdown",
   "metadata": {},
   "source": [
    "# 한글문서의 텍스트마이닝 : 감성분석\n",
    "1. 데이터 준비 및 탐색\n",
    "    1. 데이터 로딩\n",
    "    1. 데이터 탐색 및 정제\n",
    "1. 분석 모델 구축\n",
    "    1. Feature Vector 생성\n",
    "    1. 감성 분석 모델 구축\n",
    "1. 분석 모델 평가\n",
    "    1. 평가 데이터로 정확도 확인\n",
    "    1. 새로운 텍스트에 대한 감성 예측"
   ]
  },
  {
   "cell_type": "markdown",
   "metadata": {},
   "source": [
    "## 1. 데이터 준비 및 탐색\n",
    "1. 데이터 로딩\n",
    "1. 데이터 정보 확인 및 정제"
   ]
  },
  {
   "cell_type": "markdown",
   "metadata": {},
   "source": [
    "### 1-1. 데이터 로딩\n",
    "* 훈련용 데이터(ratings_train.txt)\n",
    "* 평가용 데이터(ratings_test.txt)"
   ]
  },
  {
   "cell_type": "code",
   "execution_count": 2,
   "metadata": {},
   "outputs": [
    {
     "data": {
      "text/html": [
       "<div>\n",
       "<style scoped>\n",
       "    .dataframe tbody tr th:only-of-type {\n",
       "        vertical-align: middle;\n",
       "    }\n",
       "\n",
       "    .dataframe tbody tr th {\n",
       "        vertical-align: top;\n",
       "    }\n",
       "\n",
       "    .dataframe thead th {\n",
       "        text-align: right;\n",
       "    }\n",
       "</style>\n",
       "<table border=\"1\" class=\"dataframe\">\n",
       "  <thead>\n",
       "    <tr style=\"text-align: right;\">\n",
       "      <th></th>\n",
       "      <th>id</th>\n",
       "      <th>document</th>\n",
       "      <th>label</th>\n",
       "    </tr>\n",
       "  </thead>\n",
       "  <tbody>\n",
       "    <tr>\n",
       "      <th>0</th>\n",
       "      <td>9976970</td>\n",
       "      <td>아 더빙.. 진짜 짜증나네요 목소리</td>\n",
       "      <td>0</td>\n",
       "    </tr>\n",
       "    <tr>\n",
       "      <th>1</th>\n",
       "      <td>3819312</td>\n",
       "      <td>흠...포스터보고 초딩영화줄....오버연기조차 가볍지 않구나</td>\n",
       "      <td>1</td>\n",
       "    </tr>\n",
       "    <tr>\n",
       "      <th>2</th>\n",
       "      <td>10265843</td>\n",
       "      <td>너무재밓었다그래서보는것을추천한다</td>\n",
       "      <td>0</td>\n",
       "    </tr>\n",
       "    <tr>\n",
       "      <th>3</th>\n",
       "      <td>9045019</td>\n",
       "      <td>교도소 이야기구먼 ..솔직히 재미는 없다..평점 조정</td>\n",
       "      <td>0</td>\n",
       "    </tr>\n",
       "    <tr>\n",
       "      <th>4</th>\n",
       "      <td>6483659</td>\n",
       "      <td>사이몬페그의 익살스런 연기가 돋보였던 영화!스파이더맨에서 늙어보이기만 했던 커스틴 ...</td>\n",
       "      <td>1</td>\n",
       "    </tr>\n",
       "    <tr>\n",
       "      <th>...</th>\n",
       "      <td>...</td>\n",
       "      <td>...</td>\n",
       "      <td>...</td>\n",
       "    </tr>\n",
       "    <tr>\n",
       "      <th>149995</th>\n",
       "      <td>6222902</td>\n",
       "      <td>인간이 문제지.. 소는 뭔죄인가..</td>\n",
       "      <td>0</td>\n",
       "    </tr>\n",
       "    <tr>\n",
       "      <th>149996</th>\n",
       "      <td>8549745</td>\n",
       "      <td>평점이 너무 낮아서...</td>\n",
       "      <td>1</td>\n",
       "    </tr>\n",
       "    <tr>\n",
       "      <th>149997</th>\n",
       "      <td>9311800</td>\n",
       "      <td>이게 뭐요? 한국인은 거들먹거리고 필리핀 혼혈은 착하다?</td>\n",
       "      <td>0</td>\n",
       "    </tr>\n",
       "    <tr>\n",
       "      <th>149998</th>\n",
       "      <td>2376369</td>\n",
       "      <td>청춘 영화의 최고봉.방황과 우울했던 날들의 자화상</td>\n",
       "      <td>1</td>\n",
       "    </tr>\n",
       "    <tr>\n",
       "      <th>149999</th>\n",
       "      <td>9619869</td>\n",
       "      <td>한국 영화 최초로 수간하는 내용이 담긴 영화</td>\n",
       "      <td>0</td>\n",
       "    </tr>\n",
       "  </tbody>\n",
       "</table>\n",
       "<p>150000 rows × 3 columns</p>\n",
       "</div>"
      ],
      "text/plain": [
       "              id                                           document  label\n",
       "0        9976970                                아 더빙.. 진짜 짜증나네요 목소리      0\n",
       "1        3819312                  흠...포스터보고 초딩영화줄....오버연기조차 가볍지 않구나      1\n",
       "2       10265843                                  너무재밓었다그래서보는것을추천한다      0\n",
       "3        9045019                      교도소 이야기구먼 ..솔직히 재미는 없다..평점 조정      0\n",
       "4        6483659  사이몬페그의 익살스런 연기가 돋보였던 영화!스파이더맨에서 늙어보이기만 했던 커스틴 ...      1\n",
       "...          ...                                                ...    ...\n",
       "149995   6222902                                인간이 문제지.. 소는 뭔죄인가..      0\n",
       "149996   8549745                                      평점이 너무 낮아서...      1\n",
       "149997   9311800                    이게 뭐요? 한국인은 거들먹거리고 필리핀 혼혈은 착하다?      0\n",
       "149998   2376369                        청춘 영화의 최고봉.방황과 우울했던 날들의 자화상      1\n",
       "149999   9619869                           한국 영화 최초로 수간하는 내용이 담긴 영화      0\n",
       "\n",
       "[150000 rows x 3 columns]"
      ]
     },
     "execution_count": 2,
     "metadata": {},
     "output_type": "execute_result"
    }
   ],
   "source": [
    "import pandas as pd\n",
    "\n",
    "train_df = pd.read_csv('ratings_train.txt', sep=\"\\t\", encoding=\"utf8\")\n",
    "train_df"
   ]
  },
  {
   "cell_type": "code",
   "execution_count": 3,
   "metadata": {
    "scrolled": true
   },
   "outputs": [
    {
     "data": {
      "text/html": [
       "<div>\n",
       "<style scoped>\n",
       "    .dataframe tbody tr th:only-of-type {\n",
       "        vertical-align: middle;\n",
       "    }\n",
       "\n",
       "    .dataframe tbody tr th {\n",
       "        vertical-align: top;\n",
       "    }\n",
       "\n",
       "    .dataframe thead th {\n",
       "        text-align: right;\n",
       "    }\n",
       "</style>\n",
       "<table border=\"1\" class=\"dataframe\">\n",
       "  <thead>\n",
       "    <tr style=\"text-align: right;\">\n",
       "      <th></th>\n",
       "      <th>id</th>\n",
       "      <th>document</th>\n",
       "      <th>label</th>\n",
       "    </tr>\n",
       "  </thead>\n",
       "  <tbody>\n",
       "    <tr>\n",
       "      <th>0</th>\n",
       "      <td>6270596</td>\n",
       "      <td>굳 ㅋ</td>\n",
       "      <td>1</td>\n",
       "    </tr>\n",
       "    <tr>\n",
       "      <th>1</th>\n",
       "      <td>9274899</td>\n",
       "      <td>GDNTOPCLASSINTHECLUB</td>\n",
       "      <td>0</td>\n",
       "    </tr>\n",
       "    <tr>\n",
       "      <th>2</th>\n",
       "      <td>8544678</td>\n",
       "      <td>뭐야 이 평점들은.... 나쁘진 않지만 10점 짜리는 더더욱 아니잖아</td>\n",
       "      <td>0</td>\n",
       "    </tr>\n",
       "    <tr>\n",
       "      <th>3</th>\n",
       "      <td>6825595</td>\n",
       "      <td>지루하지는 않은데 완전 막장임... 돈주고 보기에는....</td>\n",
       "      <td>0</td>\n",
       "    </tr>\n",
       "    <tr>\n",
       "      <th>4</th>\n",
       "      <td>6723715</td>\n",
       "      <td>3D만 아니었어도 별 다섯 개 줬을텐데.. 왜 3D로 나와서 제 심기를 불편하게 하죠??</td>\n",
       "      <td>0</td>\n",
       "    </tr>\n",
       "    <tr>\n",
       "      <th>...</th>\n",
       "      <td>...</td>\n",
       "      <td>...</td>\n",
       "      <td>...</td>\n",
       "    </tr>\n",
       "    <tr>\n",
       "      <th>49995</th>\n",
       "      <td>4608761</td>\n",
       "      <td>오랜만에 평점 로긴했네ㅋㅋ 킹왕짱 쌈뽕한 영화를 만났습니다 강렬하게 육쾌함</td>\n",
       "      <td>1</td>\n",
       "    </tr>\n",
       "    <tr>\n",
       "      <th>49996</th>\n",
       "      <td>5308387</td>\n",
       "      <td>의지 박약들이나 하는거다 탈영은 일단 주인공 김대희 닮았고 이등병 찐따 OOOO</td>\n",
       "      <td>0</td>\n",
       "    </tr>\n",
       "    <tr>\n",
       "      <th>49997</th>\n",
       "      <td>9072549</td>\n",
       "      <td>그림도 좋고 완성도도 높았지만... 보는 내내 불안하게 만든다</td>\n",
       "      <td>0</td>\n",
       "    </tr>\n",
       "    <tr>\n",
       "      <th>49998</th>\n",
       "      <td>5802125</td>\n",
       "      <td>절대 봐서는 안 될 영화.. 재미도 없고 기분만 잡치고.. 한 세트장에서 다 해먹네</td>\n",
       "      <td>0</td>\n",
       "    </tr>\n",
       "    <tr>\n",
       "      <th>49999</th>\n",
       "      <td>6070594</td>\n",
       "      <td>마무리는 또 왜이래</td>\n",
       "      <td>0</td>\n",
       "    </tr>\n",
       "  </tbody>\n",
       "</table>\n",
       "<p>50000 rows × 3 columns</p>\n",
       "</div>"
      ],
      "text/plain": [
       "            id                                           document  label\n",
       "0      6270596                                                굳 ㅋ      1\n",
       "1      9274899                               GDNTOPCLASSINTHECLUB      0\n",
       "2      8544678             뭐야 이 평점들은.... 나쁘진 않지만 10점 짜리는 더더욱 아니잖아      0\n",
       "3      6825595                   지루하지는 않은데 완전 막장임... 돈주고 보기에는....      0\n",
       "4      6723715  3D만 아니었어도 별 다섯 개 줬을텐데.. 왜 3D로 나와서 제 심기를 불편하게 하죠??      0\n",
       "...        ...                                                ...    ...\n",
       "49995  4608761          오랜만에 평점 로긴했네ㅋㅋ 킹왕짱 쌈뽕한 영화를 만났습니다 강렬하게 육쾌함      1\n",
       "49996  5308387       의지 박약들이나 하는거다 탈영은 일단 주인공 김대희 닮았고 이등병 찐따 OOOO      0\n",
       "49997  9072549                 그림도 좋고 완성도도 높았지만... 보는 내내 불안하게 만든다      0\n",
       "49998  5802125     절대 봐서는 안 될 영화.. 재미도 없고 기분만 잡치고.. 한 세트장에서 다 해먹네      0\n",
       "49999  6070594                                         마무리는 또 왜이래      0\n",
       "\n",
       "[50000 rows x 3 columns]"
      ]
     },
     "execution_count": 3,
     "metadata": {},
     "output_type": "execute_result"
    }
   ],
   "source": [
    "test_df = pd.read_csv(\"ratings_test.txt\", sep=\"\\t\", encoding=\"utf8\")\n",
    "test_df"
   ]
  },
  {
   "cell_type": "markdown",
   "metadata": {},
   "source": [
    "## 1-2. 데이터의 정보 확인 및 정제\n",
    "### 1-2-1. 결측치 확인 및 처리"
   ]
  },
  {
   "cell_type": "code",
   "execution_count": 4,
   "metadata": {
    "scrolled": false
   },
   "outputs": [
    {
     "name": "stdout",
     "output_type": "stream",
     "text": [
      "<class 'pandas.core.frame.DataFrame'>\n",
      "RangeIndex: 150000 entries, 0 to 149999\n",
      "Data columns (total 3 columns):\n",
      " #   Column    Non-Null Count   Dtype \n",
      "---  ------    --------------   ----- \n",
      " 0   id        150000 non-null  int64 \n",
      " 1   document  149995 non-null  object\n",
      " 2   label     150000 non-null  int64 \n",
      "dtypes: int64(2), object(1)\n",
      "memory usage: 3.4+ MB\n",
      "<class 'pandas.core.frame.DataFrame'>\n",
      "Int64Index: 149995 entries, 0 to 149999\n",
      "Data columns (total 3 columns):\n",
      " #   Column    Non-Null Count   Dtype \n",
      "---  ------    --------------   ----- \n",
      " 0   id        149995 non-null  int64 \n",
      " 1   document  149995 non-null  object\n",
      " 2   label     149995 non-null  int64 \n",
      "dtypes: int64(2), object(1)\n",
      "memory usage: 4.6+ MB\n"
     ]
    }
   ],
   "source": [
    "#결측치 확인해보고\n",
    "train_df.info()\n",
    "\n",
    "train_df.dropna(inplace=True) #결측치는 삭제로 처리\n",
    "train_df.info()"
   ]
  },
  {
   "cell_type": "code",
   "execution_count": 5,
   "metadata": {},
   "outputs": [
    {
     "name": "stdout",
     "output_type": "stream",
     "text": [
      "<class 'pandas.core.frame.DataFrame'>\n",
      "RangeIndex: 50000 entries, 0 to 49999\n",
      "Data columns (total 3 columns):\n",
      " #   Column    Non-Null Count  Dtype \n",
      "---  ------    --------------  ----- \n",
      " 0   id        50000 non-null  int64 \n",
      " 1   document  49997 non-null  object\n",
      " 2   label     50000 non-null  int64 \n",
      "dtypes: int64(2), object(1)\n",
      "memory usage: 1.1+ MB\n",
      "<class 'pandas.core.frame.DataFrame'>\n",
      "Int64Index: 49997 entries, 0 to 49999\n",
      "Data columns (total 3 columns):\n",
      " #   Column    Non-Null Count  Dtype \n",
      "---  ------    --------------  ----- \n",
      " 0   id        49997 non-null  int64 \n",
      " 1   document  49997 non-null  object\n",
      " 2   label     49997 non-null  int64 \n",
      "dtypes: int64(2), object(1)\n",
      "memory usage: 1.5+ MB\n"
     ]
    }
   ],
   "source": [
    "test_df.info()\n",
    "\n",
    "test_df.dropna(inplace=True) #결측치는 삭제로 처리\n",
    "test_df.info()"
   ]
  },
  {
   "cell_type": "markdown",
   "metadata": {},
   "source": [
    "### 1-2-2. 타겟 컬럼 label 확인 (0: 부정감성,   1: 긍정감성)"
   ]
  },
  {
   "cell_type": "code",
   "execution_count": 6,
   "metadata": {
    "scrolled": true
   },
   "outputs": [
    {
     "data": {
      "text/plain": [
       "0    75170\n",
       "1    74825\n",
       "Name: label, dtype: int64"
      ]
     },
     "execution_count": 6,
     "metadata": {},
     "output_type": "execute_result"
    }
   ],
   "source": [
    "train_df['label'].value_counts()"
   ]
  },
  {
   "cell_type": "code",
   "execution_count": 7,
   "metadata": {},
   "outputs": [
    {
     "data": {
      "text/plain": [
       "1    25171\n",
       "0    24826\n",
       "Name: label, dtype: int64"
      ]
     },
     "execution_count": 7,
     "metadata": {},
     "output_type": "execute_result"
    }
   ],
   "source": [
    "test_df['label'].value_counts()"
   ]
  },
  {
   "cell_type": "markdown",
   "metadata": {},
   "source": [
    "### 1-2-3. 한글 이외의 문자는 공백으로 변환 (정규표현식 이용)"
   ]
  },
  {
   "cell_type": "code",
   "execution_count": 8,
   "metadata": {},
   "outputs": [
    {
     "data": {
      "text/plain": [
       "0                                        아 더빙  진짜 짜증나네요 목소리\n",
       "1                              흠 포스터보고 초딩영화줄 오버연기조차 가볍지 않구나\n",
       "2                                         너무재밓었다그래서보는것을추천한다\n",
       "3                               교도소 이야기구먼  솔직히 재미는 없다 평점 조정\n",
       "4         사이몬페그의 익살스런 연기가 돋보였던 영화 스파이더맨에서 늙어보이기만 했던 커스틴 ...\n",
       "                                ...                        \n",
       "149995                                    인간이 문제지  소는 뭔죄인가 \n",
       "149996                                          평점이 너무 낮아서 \n",
       "149997                      이게 뭐요  한국인은 거들먹거리고 필리핀 혼혈은 착하다 \n",
       "149998                          청춘 영화의 최고봉 방황과 우울했던 날들의 자화상\n",
       "149999                             한국 영화 최초로 수간하는 내용이 담긴 영화\n",
       "Name: document, Length: 149995, dtype: object"
      ]
     },
     "execution_count": 8,
     "metadata": {},
     "output_type": "execute_result"
    }
   ],
   "source": [
    "import re\n",
    "\n",
    "\n",
    "#^ : not, +는 연속된 문자\n",
    "sub_func = lambda x : re.sub(r'[^ㄱ-ㅣ가-힣\\s]+', ' ', x)\n",
    "train_df['document'].apply(sub_func)"
   ]
  },
  {
   "cell_type": "code",
   "execution_count": 9,
   "metadata": {},
   "outputs": [
    {
     "data": {
      "text/plain": [
       "0                                                  굳 ㅋ\n",
       "1                                                     \n",
       "2                   뭐야 이 평점들은  나쁘진 않지만  점 짜리는 더더욱 아니잖아\n",
       "3                          지루하지는 않은데 완전 막장임  돈주고 보기에는 \n",
       "4         만 아니었어도 별 다섯 개 줬을텐데  왜  로 나와서 제 심기를 불편하게 하죠 \n",
       "                             ...                      \n",
       "49995        오랜만에 평점 로긴했네ㅋㅋ 킹왕짱 쌈뽕한 영화를 만났습니다 강렬하게 육쾌함\n",
       "49996        의지 박약들이나 하는거다 탈영은 일단 주인공 김대희 닮았고 이등병 찐따  \n",
       "49997                 그림도 좋고 완성도도 높았지만  보는 내내 불안하게 만든다\n",
       "49998     절대 봐서는 안 될 영화  재미도 없고 기분만 잡치고  한 세트장에서 다 해먹네\n",
       "49999                                       마무리는 또 왜이래\n",
       "Name: document, Length: 49997, dtype: object"
      ]
     },
     "execution_count": 9,
     "metadata": {},
     "output_type": "execute_result"
    }
   ],
   "source": [
    "test_df['document'].apply(sub_func)"
   ]
  },
  {
   "cell_type": "markdown",
   "metadata": {},
   "source": [
    "# 2. 분석 모델 구축\n",
    "1. Feature Vector 생성\n",
    "1. 감성 분석 모델 구축"
   ]
  },
  {
   "cell_type": "markdown",
   "metadata": {},
   "source": [
    "## 2-1. 피처 벡터화 : TF-IDF\n",
    "1. 형태소를 분석하여 토근화 : konlpy.Okt 라이브러리 이용\n",
    "1. TF-IDF 기반의 feature vector 생성"
   ]
  },
  {
   "cell_type": "markdown",
   "metadata": {},
   "source": [
    "### 2-1-1. 형태소를 분석하여 토큰화 함수 구현\n",
    "* koNLPy.Okt 이용 : *tokens* = *OktObject*.**morphs**(*text*)"
   ]
  },
  {
   "cell_type": "code",
   "execution_count": 10,
   "metadata": {},
   "outputs": [],
   "source": [
    "from konlpy.tag import Okt\n",
    "okt = Okt()\n",
    "\n",
    "def okt_tokenizer(text):\n",
    "    tokens = okt.morphs(text)\n",
    "    return tokens"
   ]
  },
  {
   "cell_type": "code",
   "execution_count": null,
   "metadata": {},
   "outputs": [],
   "source": []
  },
  {
   "cell_type": "markdown",
   "metadata": {},
   "source": [
    "### 2-1-2. TF-IDF 기반 피처 벡터 생성 \n",
    "* sklearn 라이브러리의 TfidfVectorizer로 학습하여 Feature Vectore 생성 모델 구축\n",
    "   - from sklearn.feature_extraction.text import TfidfVectorizer\n",
    "   - 모델 생성 : *model* = **TfidfVectorizer**(tokenizer=*tokenizer_func*, *optional parameters*)\n",
    "   - 모델 학습 : *model*.**fit**(*train_text_data*)\n",
    "   - Feature Vertor로 변환 : *feature_vector* = *model*.**transform**(*text_data*)\n",
    "* 실행시간 10분 정도 걸림\n",
    "\n",
    "https://scikit-learn.org/stable/modules/generated/sklearn.feature_extraction.text.TfidfVectorizer.html"
   ]
  },
  {
   "cell_type": "code",
   "execution_count": 11,
   "metadata": {},
   "outputs": [
    {
     "name": "stderr",
     "output_type": "stream",
     "text": [
      "C:\\Users\\User\\AppData\\Roaming\\Python\\Python310\\site-packages\\sklearn\\feature_extraction\\text.py:525: UserWarning: The parameter 'token_pattern' will not be used since 'tokenizer' is not None'\n",
      "  warnings.warn(\n"
     ]
    }
   ],
   "source": [
    "from sklearn.feature_extraction.text import TfidfVectorizer\n",
    "# 모델 생성\n",
    "tfidf_model = TfidfVectorizer(tokenizer=okt_tokenizer)\n",
    "\n",
    "#모델 학습\n",
    "tfidf_model.fit(train_df['document'])\n",
    "\n",
    "# text -> feature vector\n",
    "train_tfidf = tfidf_model.transform(train_df['document'])\n"
   ]
  },
  {
   "cell_type": "markdown",
   "metadata": {},
   "source": [
    "## 2-2) 감성 분류(Sentiment Analysis) 모델 구축\n",
    "\n",
    "* 로지스틱 회귀를 이용한 이진 분류\n",
    "\n",
    "1. 로지스틱 회귀 기반 분석 모델 학습 (sklearn.linear_model.LogisticRegression)\n",
    "1. 최적의 하이퍼파라미터 갖는 학습 모델 구축 (sklearn.model_selection.**GridSearchCV**)\n",
    "1. 최적 학습 모델에 대한 평가"
   ]
  },
  {
   "cell_type": "markdown",
   "metadata": {},
   "source": [
    "### 2-2-1. 로지스틱 회귀 기반 분석 모델 학습\n",
    "\n",
    "https://scikit-learn.org/stable/modules/generated/sklearn.linear_model.LogisticRegression.html"
   ]
  },
  {
   "cell_type": "code",
   "execution_count": 12,
   "metadata": {},
   "outputs": [
    {
     "name": "stderr",
     "output_type": "stream",
     "text": [
      "C:\\Users\\User\\AppData\\Roaming\\Python\\Python310\\site-packages\\sklearn\\linear_model\\_logistic.py:460: ConvergenceWarning: lbfgs failed to converge (status=1):\n",
      "STOP: TOTAL NO. of ITERATIONS REACHED LIMIT.\n",
      "\n",
      "Increase the number of iterations (max_iter) or scale the data as shown in:\n",
      "    https://scikit-learn.org/stable/modules/preprocessing.html\n",
      "Please also refer to the documentation for alternative solver options:\n",
      "    https://scikit-learn.org/stable/modules/linear_model.html#logistic-regression\n",
      "  n_iter_i = _check_optimize_result(\n"
     ]
    },
    {
     "data": {
      "text/plain": [
       "89.43"
      ]
     },
     "execution_count": 12,
     "metadata": {},
     "output_type": "execute_result"
    }
   ],
   "source": [
    "from sklearn.linear_model import LogisticRegression\n",
    "# 모델 생성\n",
    "model = LogisticRegression()\n",
    "\n",
    "#모델 학습\n",
    "X_train = train_tfidf\n",
    "y_train = train_df['label']\n",
    "model.fit(X_train, y_train)\n",
    "\n",
    "# text -> feature vector\n",
    "train_score = round(model.score(X_train, y_train)*100, 2)\n",
    "train_score"
   ]
  },
  {
   "cell_type": "markdown",
   "metadata": {},
   "source": [
    "### 2-2-2. 로지스틱 회귀의  최적의 하이퍼파라미터 찾기\n",
    "\n",
    "* 로지스틱 회귀의 하이퍼파라미터 C의 최적값 찾기\n",
    "\n",
    "1. 최적의 하이퍼파라미터 찾는 객체 생성 : *gridSearchCVobject* = **GridSearchCV**(*estimater*, *param_grid*, *optional parameters*)\n",
    "1. 학습 데이터로 최적의 하이퍼파라미터 도출 : *gridSearchCVobject*.**fit**(*train_data*)\n",
    "1. 최적의 하이퍼파라미터를 적용한 학습 모델 저장 : *best_model* = *gridSearchCVobject*.**best_estimator_**\n",
    "\n",
    "https://scikit-learn.org/stable/modules/generated/sklearn.model_selection.GridSearchCV.html"
   ]
  },
  {
   "cell_type": "code",
   "execution_count": null,
   "metadata": {},
   "outputs": [],
   "source": []
  },
  {
   "cell_type": "code",
   "execution_count": null,
   "metadata": {
    "scrolled": true
   },
   "outputs": [],
   "source": []
  },
  {
   "cell_type": "code",
   "execution_count": null,
   "metadata": {},
   "outputs": [],
   "source": []
  },
  {
   "cell_type": "markdown",
   "metadata": {},
   "source": [
    "### 2-2-3. 최적 분석 모델 저장"
   ]
  },
  {
   "cell_type": "code",
   "execution_count": null,
   "metadata": {},
   "outputs": [],
   "source": []
  },
  {
   "cell_type": "markdown",
   "metadata": {},
   "source": [
    "# 3. 분석 모델 평가"
   ]
  },
  {
   "cell_type": "markdown",
   "metadata": {},
   "source": [
    "## 3-1. 평가용 데이터를 이용하여 감성 분석 모델 정확도"
   ]
  },
  {
   "cell_type": "code",
   "execution_count": 13,
   "metadata": {},
   "outputs": [],
   "source": [
    "# 평가용 데이터의 피처 벡터화 : 실행시간 6분 정도 걸립니다 ☺\n",
    "test_tfidf = tfidf_model.transform(test_df['document'])"
   ]
  },
  {
   "cell_type": "code",
   "execution_count": 14,
   "metadata": {},
   "outputs": [
    {
     "data": {
      "text/plain": [
       "85.13"
      ]
     },
     "execution_count": 14,
     "metadata": {},
     "output_type": "execute_result"
    }
   ],
   "source": [
    "#모델 평가\n",
    "test_score = round(model.score(test_tfidf, test_df['label'])*100, 2)\n",
    "test_score"
   ]
  },
  {
   "cell_type": "code",
   "execution_count": 15,
   "metadata": {
    "scrolled": true
   },
   "outputs": [],
   "source": [
    "SA_LogR_model = model"
   ]
  },
  {
   "cell_type": "markdown",
   "metadata": {},
   "source": [
    "## 3-2. 새로운 텍스트에 대한 감성 예측\n",
    "1. 문장 입력 받기\n",
    "2. 입력 문장 전처리\n",
    "3. Feature Vector 생성\n",
    "4. 감성 분석 모델 적용 -> 감성 분석\n",
    "5. 예측값 출력"
   ]
  },
  {
   "cell_type": "code",
   "execution_count": 16,
   "metadata": {},
   "outputs": [
    {
     "name": "stdout",
     "output_type": "stream",
     "text": [
      "이하리 졸귀탱 : 긍정감성\n"
     ]
    }
   ],
   "source": [
    "#문장 입력 받기\n",
    "in_sent = input(\"감정을 분석할 문장을 입력하세요 >>\")\n",
    "\n",
    "#입력 문장 전처리\n",
    "cl_sent = sub_func(in_sent)\n",
    "\n",
    "#Feature Vector 생성\n",
    "in_list = []\n",
    "in_list.append(cl_sent)\n",
    "st_tfidf = tfidf_model.transform(in_list)\n",
    "\n",
    "#감성 분석 모델 적용 -> 감성 분석\n",
    "st_predict = SA_LogR_model.predict(st_tfidf)\n",
    "\n",
    "#예측값 출력\n",
    "print(in_sent, ': 긍정감성' if st_predict else print(in_sent, ':부정감성'))"
   ]
  },
  {
   "cell_type": "markdown",
   "metadata": {},
   "source": [
    "# 4. Crawling 데이터에 대한 SA"
   ]
  },
  {
   "cell_type": "code",
   "execution_count": null,
   "metadata": {},
   "outputs": [],
   "source": []
  },
  {
   "cell_type": "markdown",
   "metadata": {},
   "source": [
    "# 여기부터~~~~~~~~~~~~~~~~~~~~~~~~~~~"
   ]
  },
  {
   "cell_type": "code",
   "execution_count": 17,
   "metadata": {},
   "outputs": [
    {
     "data": {
      "text/html": [
       "<div>\n",
       "<style scoped>\n",
       "    .dataframe tbody tr th:only-of-type {\n",
       "        vertical-align: middle;\n",
       "    }\n",
       "\n",
       "    .dataframe tbody tr th {\n",
       "        vertical-align: top;\n",
       "    }\n",
       "\n",
       "    .dataframe thead th {\n",
       "        text-align: right;\n",
       "    }\n",
       "</style>\n",
       "<table border=\"1\" class=\"dataframe\">\n",
       "  <thead>\n",
       "    <tr style=\"text-align: right;\">\n",
       "      <th></th>\n",
       "      <th>title</th>\n",
       "      <th>description</th>\n",
       "    </tr>\n",
       "  </thead>\n",
       "  <tbody>\n",
       "    <tr>\n",
       "      <th>0</th>\n",
       "      <td>[팝업★]'나솔' 16기 영숙, 돌연 前남편 공개 &amp;quot;찢어 죽이고 싶은 사람...</td>\n",
       "      <td>공개된 사진 속에는 글로 언급했던 &lt;b&gt;강아지&lt;/b&gt; 모양의 케이크부터 토끼 솜사탕...</td>\n",
       "    </tr>\n",
       "    <tr>\n",
       "      <th>1</th>\n",
       "      <td>[미래인재를 키우는 충남교육 참학력] AI와 함께 미래로!… 천안교육지원청</td>\n",
       "      <td>관내 모든 초·중학생들에게 교과·창의적 체험활동 연계한 AI교육 프로그램을 제공하고...</td>\n",
       "    </tr>\n",
       "    <tr>\n",
       "      <th>2</th>\n",
       "      <td>오늘의집, 세계 동물의 날 기념 선물캠페인 '코코야 고마워' 진행</td>\n",
       "      <td>오늘의집은 고객이 필요한 상품을 쉽게 찾도록 &lt;b&gt;강아지&lt;/b&gt;, 고양이 별로 ▲리...</td>\n",
       "    </tr>\n",
       "    <tr>\n",
       "      <th>3</th>\n",
       "      <td>웨이브, 오리지널 '거래'·'악인취재기' 등 10월 라인업 공개</td>\n",
       "      <td>◇ '연인 파트2', '오늘도 사랑스럽개' 등 뉴 페이스 등장 남궁민과 안은진의 애...</td>\n",
       "    </tr>\n",
       "    <tr>\n",
       "      <th>4</th>\n",
       "      <td>김유리 &amp;quot;중학생 때 시력 잃고 7년 동안 숨어 살아…희망 주는 가수 될 것...</td>\n",
       "      <td>또 “당시 내겐 엄마와 외할머니, &lt;b&gt;강아지&lt;/b&gt;뿐이었다”며 “엄마는 마음 아파...</td>\n",
       "    </tr>\n",
       "    <tr>\n",
       "      <th>...</th>\n",
       "      <td>...</td>\n",
       "      <td>...</td>\n",
       "    </tr>\n",
       "    <tr>\n",
       "      <th>95</th>\n",
       "      <td>[기획] 제28회 부산국제영화제 추천작 ①</td>\n",
       "      <td>역사가였던 어머니부터 시작해 이웃집 &lt;b&gt;강아지&lt;/b&gt;, 여러 편의 영화를 촬영했던...</td>\n",
       "    </tr>\n",
       "    <tr>\n",
       "      <th>96</th>\n",
       "      <td>주인 다리 물어뜯은 반려견이 안락사 대신 '영웅견'이라 불리게 된 사연</td>\n",
       "      <td>= 주인의 다리를 물어뜯어 피까지 나게 한 &lt;b&gt;강아지&lt;/b&gt; 한 마리가 오히려 ‘...</td>\n",
       "    </tr>\n",
       "    <tr>\n",
       "      <th>97</th>\n",
       "      <td>윤혜진, ♥엄태웅 복귀 앞두고 행복한 부산 여행</td>\n",
       "      <td>이어 공개된 사진에서 엄태웅 윤혜진 부부는 딸 지온이와 &lt;b&gt;강아지&lt;/b&gt; 봉구까지...</td>\n",
       "    </tr>\n",
       "    <tr>\n",
       "      <th>98</th>\n",
       "      <td>`톡파원 25시`, 이찬원의 상냥한 눈동자는 눈앞의 사람을 미소 짓게 하고 행복...</td>\n",
       "      <td>한편, 오는 10월 9일 월요일 오후 8시 50분 JTBC `톡파원 25시`에서는 ...</td>\n",
       "    </tr>\n",
       "    <tr>\n",
       "      <th>99</th>\n",
       "      <td>&amp;quot;반려견 6마리 떠넘긴 아이돌 남친…성형 비용 위해 교배&amp;quot;('물어...</td>\n",
       "      <td>성형수술 비용을 위해 &lt;b&gt;강아지&lt;/b&gt;를 교배시키고 여자친구에게 반려견을 전가한 ...</td>\n",
       "    </tr>\n",
       "  </tbody>\n",
       "</table>\n",
       "<p>100 rows × 2 columns</p>\n",
       "</div>"
      ],
      "text/plain": [
       "                                                title  \\\n",
       "0   [팝업★]'나솔' 16기 영숙, 돌연 前남편 공개 &quot;찢어 죽이고 싶은 사람...   \n",
       "1           [미래인재를 키우는 충남교육 참학력] AI와 함께 미래로!… 천안교육지원청   \n",
       "2                오늘의집, 세계 동물의 날 기념 선물캠페인 '코코야 고마워' 진행   \n",
       "3                 웨이브, 오리지널 '거래'·'악인취재기' 등 10월 라인업 공개   \n",
       "4   김유리 &quot;중학생 때 시력 잃고 7년 동안 숨어 살아…희망 주는 가수 될 것...   \n",
       "..                                                ...   \n",
       "95                            [기획] 제28회 부산국제영화제 추천작 ①   \n",
       "96            주인 다리 물어뜯은 반려견이 안락사 대신 '영웅견'이라 불리게 된 사연   \n",
       "97                         윤혜진, ♥엄태웅 복귀 앞두고 행복한 부산 여행   \n",
       "98    `톡파원 25시`, 이찬원의 상냥한 눈동자는 눈앞의 사람을 미소 짓게 하고 행복...   \n",
       "99  &quot;반려견 6마리 떠넘긴 아이돌 남친…성형 비용 위해 교배&quot;('물어...   \n",
       "\n",
       "                                          description  \n",
       "0   공개된 사진 속에는 글로 언급했던 <b>강아지</b> 모양의 케이크부터 토끼 솜사탕...  \n",
       "1   관내 모든 초·중학생들에게 교과·창의적 체험활동 연계한 AI교육 프로그램을 제공하고...  \n",
       "2   오늘의집은 고객이 필요한 상품을 쉽게 찾도록 <b>강아지</b>, 고양이 별로 ▲리...  \n",
       "3   ◇ '연인 파트2', '오늘도 사랑스럽개' 등 뉴 페이스 등장 남궁민과 안은진의 애...  \n",
       "4   또 “당시 내겐 엄마와 외할머니, <b>강아지</b>뿐이었다”며 “엄마는 마음 아파...  \n",
       "..                                                ...  \n",
       "95  역사가였던 어머니부터 시작해 이웃집 <b>강아지</b>, 여러 편의 영화를 촬영했던...  \n",
       "96  = 주인의 다리를 물어뜯어 피까지 나게 한 <b>강아지</b> 한 마리가 오히려 ‘...  \n",
       "97  이어 공개된 사진에서 엄태웅 윤혜진 부부는 딸 지온이와 <b>강아지</b> 봉구까지...  \n",
       "98  한편, 오는 10월 9일 월요일 오후 8시 50분 JTBC `톡파원 25시`에서는 ...  \n",
       "99  성형수술 비용을 위해 <b>강아지</b>를 교배시키고 여자친구에게 반려견을 전가한 ...  \n",
       "\n",
       "[100 rows x 2 columns]"
      ]
     },
     "execution_count": 17,
     "metadata": {},
     "output_type": "execute_result"
    }
   ],
   "source": [
    "# Crawling 데이터 로딩하기\n",
    "import pandas as pd\n",
    "filename = \"강아지_news.json\"\n",
    "temp_df = pd.read_json(filename)\n",
    "news_df = temp_df[['title', 'description']]\n",
    "news_df"
   ]
  },
  {
   "cell_type": "code",
   "execution_count": 18,
   "metadata": {},
   "outputs": [
    {
     "name": "stderr",
     "output_type": "stream",
     "text": [
      "C:\\Users\\User\\AppData\\Local\\Temp\\ipykernel_13652\\4034741373.py:5: SettingWithCopyWarning: \n",
      "A value is trying to be set on a copy of a slice from a DataFrame.\n",
      "Try using .loc[row_indexer,col_indexer] = value instead\n",
      "\n",
      "See the caveats in the documentation: https://pandas.pydata.org/pandas-docs/stable/user_guide/indexing.html#returning-a-view-versus-a-copy\n",
      "  news_df['title'] = news_df['title'].apply(sub_func)\n",
      "C:\\Users\\User\\AppData\\Local\\Temp\\ipykernel_13652\\4034741373.py:6: SettingWithCopyWarning: \n",
      "A value is trying to be set on a copy of a slice from a DataFrame.\n",
      "Try using .loc[row_indexer,col_indexer] = value instead\n",
      "\n",
      "See the caveats in the documentation: https://pandas.pydata.org/pandas-docs/stable/user_guide/indexing.html#returning-a-view-versus-a-copy\n",
      "  news_df['description'] = news_df['description'].apply(sub_func)\n"
     ]
    },
    {
     "data": {
      "text/html": [
       "<div>\n",
       "<style scoped>\n",
       "    .dataframe tbody tr th:only-of-type {\n",
       "        vertical-align: middle;\n",
       "    }\n",
       "\n",
       "    .dataframe tbody tr th {\n",
       "        vertical-align: top;\n",
       "    }\n",
       "\n",
       "    .dataframe thead th {\n",
       "        text-align: right;\n",
       "    }\n",
       "</style>\n",
       "<table border=\"1\" class=\"dataframe\">\n",
       "  <thead>\n",
       "    <tr style=\"text-align: right;\">\n",
       "      <th></th>\n",
       "      <th>title</th>\n",
       "      <th>description</th>\n",
       "    </tr>\n",
       "  </thead>\n",
       "  <tbody>\n",
       "    <tr>\n",
       "      <th>0</th>\n",
       "      <td>팝업 나솔   기 영숙  돌연  남편 공개  찢어 죽이고 싶은 사람이었지만</td>\n",
       "      <td>공개된 사진 속에는 글로 언급했던  강아지  모양의 케이크부터 토끼 솜사탕  그리고...</td>\n",
       "    </tr>\n",
       "    <tr>\n",
       "      <th>1</th>\n",
       "      <td>미래인재를 키우는 충남교육 참학력   와 함께 미래로  천안교육지원청</td>\n",
       "      <td>관내 모든 초 중학생들에게 교과 창의적 체험활동 연계한  교육 프로그램을 제공하고 ...</td>\n",
       "    </tr>\n",
       "    <tr>\n",
       "      <th>2</th>\n",
       "      <td>오늘의집  세계 동물의 날 기념 선물캠페인  코코야 고마워  진행</td>\n",
       "      <td>오늘의집은 고객이 필요한 상품을 쉽게 찾도록  강아지  고양이 별로  리빙  푸드 ...</td>\n",
       "    </tr>\n",
       "    <tr>\n",
       "      <th>3</th>\n",
       "      <td>웨이브  오리지널  거래 악인취재기  등  월 라인업 공개</td>\n",
       "      <td>연인 파트   오늘도 사랑스럽개  등 뉴 페이스 등장 남궁민과 안은진의 애절한...</td>\n",
       "    </tr>\n",
       "    <tr>\n",
       "      <th>4</th>\n",
       "      <td>김유리  중학생 때 시력 잃고  년 동안 숨어 살아 희망 주는 가수 될 것</td>\n",
       "      <td>또  당시 내겐 엄마와 외할머니   강아지 뿐이었다 며  엄마는 마음 아파했지만 묵...</td>\n",
       "    </tr>\n",
       "    <tr>\n",
       "      <th>...</th>\n",
       "      <td>...</td>\n",
       "      <td>...</td>\n",
       "    </tr>\n",
       "    <tr>\n",
       "      <th>95</th>\n",
       "      <td>기획  제 회 부산국제영화제 추천작</td>\n",
       "      <td>역사가였던 어머니부터 시작해 이웃집  강아지  여러 편의 영화를 촬영했던 자신의 집...</td>\n",
       "    </tr>\n",
       "    <tr>\n",
       "      <th>96</th>\n",
       "      <td>주인 다리 물어뜯은 반려견이 안락사 대신  영웅견 이라 불리게 된 사연</td>\n",
       "      <td>주인의 다리를 물어뜯어 피까지 나게 한  강아지  한 마리가 오히려  영웅견  ...</td>\n",
       "    </tr>\n",
       "    <tr>\n",
       "      <th>97</th>\n",
       "      <td>윤혜진   엄태웅 복귀 앞두고 행복한 부산 여행</td>\n",
       "      <td>이어 공개된 사진에서 엄태웅 윤혜진 부부는 딸 지온이와  강아지  봉구까지 함께 다...</td>\n",
       "    </tr>\n",
       "    <tr>\n",
       "      <th>98</th>\n",
       "      <td>톡파원  시  이찬원의 상냥한 눈동자는 눈앞의 사람을 미소 짓게 하고 행복</td>\n",
       "      <td>한편  오는  월  일 월요일 오후  시  분    톡파원  시 에서는 끓어오르는 ...</td>\n",
       "    </tr>\n",
       "    <tr>\n",
       "      <th>99</th>\n",
       "      <td>반려견  마리 떠넘긴 아이돌 남친 성형 비용 위해 교배 물어보살</td>\n",
       "      <td>성형수술 비용을 위해  강아지 를 교배시키고 여자친구에게 반려견을 전가한 아이돌의 ...</td>\n",
       "    </tr>\n",
       "  </tbody>\n",
       "</table>\n",
       "<p>100 rows × 2 columns</p>\n",
       "</div>"
      ],
      "text/plain": [
       "                                          title  \\\n",
       "0    팝업 나솔   기 영숙  돌연  남편 공개  찢어 죽이고 싶은 사람이었지만    \n",
       "1        미래인재를 키우는 충남교육 참학력   와 함께 미래로  천안교육지원청   \n",
       "2          오늘의집  세계 동물의 날 기념 선물캠페인  코코야 고마워  진행   \n",
       "3              웨이브  오리지널  거래 악인취재기  등  월 라인업 공개   \n",
       "4    김유리  중학생 때 시력 잃고  년 동안 숨어 살아 희망 주는 가수 될 것    \n",
       "..                                          ...   \n",
       "95                        기획  제 회 부산국제영화제 추천작     \n",
       "96      주인 다리 물어뜯은 반려견이 안락사 대신  영웅견 이라 불리게 된 사연   \n",
       "97                   윤혜진   엄태웅 복귀 앞두고 행복한 부산 여행   \n",
       "98   톡파원  시  이찬원의 상냥한 눈동자는 눈앞의 사람을 미소 짓게 하고 행복    \n",
       "99         반려견  마리 떠넘긴 아이돌 남친 성형 비용 위해 교배 물어보살    \n",
       "\n",
       "                                          description  \n",
       "0   공개된 사진 속에는 글로 언급했던  강아지  모양의 케이크부터 토끼 솜사탕  그리고...  \n",
       "1   관내 모든 초 중학생들에게 교과 창의적 체험활동 연계한  교육 프로그램을 제공하고 ...  \n",
       "2   오늘의집은 고객이 필요한 상품을 쉽게 찾도록  강아지  고양이 별로  리빙  푸드 ...  \n",
       "3      연인 파트   오늘도 사랑스럽개  등 뉴 페이스 등장 남궁민과 안은진의 애절한...  \n",
       "4   또  당시 내겐 엄마와 외할머니   강아지 뿐이었다 며  엄마는 마음 아파했지만 묵...  \n",
       "..                                                ...  \n",
       "95  역사가였던 어머니부터 시작해 이웃집  강아지  여러 편의 영화를 촬영했던 자신의 집...  \n",
       "96    주인의 다리를 물어뜯어 피까지 나게 한  강아지  한 마리가 오히려  영웅견  ...  \n",
       "97  이어 공개된 사진에서 엄태웅 윤혜진 부부는 딸 지온이와  강아지  봉구까지 함께 다...  \n",
       "98  한편  오는  월  일 월요일 오후  시  분    톡파원  시 에서는 끓어오르는 ...  \n",
       "99  성형수술 비용을 위해  강아지 를 교배시키고 여자친구에게 반려견을 전가한 아이돌의 ...  \n",
       "\n",
       "[100 rows x 2 columns]"
      ]
     },
     "execution_count": 18,
     "metadata": {},
     "output_type": "execute_result"
    }
   ],
   "source": [
    "# 입력 문장 전처리\n",
    "import re\n",
    "\n",
    "sub_func = lambda x : re.sub(r'[^ㄱ-ㅣ가-힣\\s]+', ' ', x)\n",
    "news_df['title'] = news_df['title'].apply(sub_func)\n",
    "news_df['description'] = news_df['description'].apply(sub_func)\n",
    "news_df"
   ]
  },
  {
   "cell_type": "code",
   "execution_count": 88,
   "metadata": {},
   "outputs": [
    {
     "name": "stderr",
     "output_type": "stream",
     "text": [
      "C:\\Users\\User\\AppData\\Local\\Temp\\ipykernel_5268\\349219203.py:10: SettingWithCopyWarning: \n",
      "A value is trying to be set on a copy of a slice from a DataFrame.\n",
      "Try using .loc[row_indexer,col_indexer] = value instead\n",
      "\n",
      "See the caveats in the documentation: https://pandas.pydata.org/pandas-docs/stable/user_guide/indexing.html#returning-a-view-versus-a-copy\n",
      "  news_df.loc[:, 'title_SA'] = news_title_predict\n",
      "C:\\Users\\User\\AppData\\Local\\Temp\\ipykernel_5268\\349219203.py:11: SettingWithCopyWarning: \n",
      "A value is trying to be set on a copy of a slice from a DataFrame.\n",
      "Try using .loc[row_indexer,col_indexer] = value instead\n",
      "\n",
      "See the caveats in the documentation: https://pandas.pydata.org/pandas-docs/stable/user_guide/indexing.html#returning-a-view-versus-a-copy\n",
      "  news_df.loc[:, 'description_SA'] = news_desc_predict\n"
     ]
    },
    {
     "data": {
      "text/plain": [
       "1    51\n",
       "0    49\n",
       "Name: title_SA, dtype: int64"
      ]
     },
     "execution_count": 88,
     "metadata": {},
     "output_type": "execute_result"
    }
   ],
   "source": [
    "# Feature Vector 생성\n",
    "news_title_tfidf = tfidf_model.transform(news_df.loc[:, 'title'])\n",
    "news_desc_tfidf = tfidf_model.transform(news_df.loc[:, 'description'])\n",
    "\n",
    "# 감성 분석 모델 적용 -> 감성 분석\n",
    "news_title_predict = SA_LogR_model.predict(news_title_tfidf)\n",
    "news_desc_predict = SA_LogR_model.predict(news_desc_tfidf)\n",
    "\n",
    "# 예측값 출력\n",
    "news_df.loc[:, 'title_SA'] = news_title_predict\n",
    "news_df.loc[:, 'description_SA'] = news_desc_predict\n",
    "\n",
    "#확인용\n",
    "news_df.loc[:, 'title_SA'] # 시리즈\n",
    "news_df.loc[:, 'title_SA'].values # 배열(s 주의)\n",
    "news_df.loc[:, 'title_SA'].value_counts() #값별 개수(counts만 s있음에 주의)"
   ]
  },
  {
   "cell_type": "code",
   "execution_count": 32,
   "metadata": {},
   "outputs": [
    {
     "name": "stdout",
     "output_type": "stream",
     "text": [
      "[제목]긍정적 : 49.0%\n",
      "[제목]부정적 : 51.0%\n",
      "[내용]긍정적 : 50.0%\n",
      "[내용]부정적 : 50.0%\n"
     ]
    }
   ],
   "source": [
    "# 해당 키워드에 대한 긍정 뉴스와 부정 뉴스의 비율 출력하기\n",
    "rate_good_title = round((news_df['title_SA'].value_counts()[0]/len(news_df['title_SA']))*100, 2)\n",
    "rate_bad_title = round((news_df['title_SA'].value_counts()[1]/len(news_df['title_SA']))*100, 2)\n",
    "\n",
    "print(f'[제목]긍정적 : {rate_good_title}%')\n",
    "print(f'[제목]부정적 : {rate_bad_title}%')\n",
    "\n",
    "rate_good_desc = round((news_df['description_SA'].value_counts()[0]/len(news_df['description_SA']))*100, 2)\n",
    "rate_bad_desc = round((news_df['description_SA'].value_counts()[0]/len(news_df['description_SA']))*100, 2)\n",
    "\n",
    "print(f'[내용]긍정적 : {rate_good_desc}%')\n",
    "print(f'[내용]부정적 : {rate_bad_desc}%')\n"
   ]
  }
 ],
 "metadata": {
  "kernelspec": {
   "display_name": "Python 3 (ipykernel)",
   "language": "python",
   "name": "python3"
  },
  "language_info": {
   "codemirror_mode": {
    "name": "ipython",
    "version": 3
   },
   "file_extension": ".py",
   "mimetype": "text/x-python",
   "name": "python",
   "nbconvert_exporter": "python",
   "pygments_lexer": "ipython3",
   "version": "3.10.13"
  }
 },
 "nbformat": 4,
 "nbformat_minor": 2
}
