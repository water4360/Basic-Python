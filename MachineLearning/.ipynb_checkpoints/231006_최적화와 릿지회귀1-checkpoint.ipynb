{
 "cells": [
  {
   "cell_type": "code",
   "execution_count": 10,
   "id": "f4dd6193",
   "metadata": {},
   "outputs": [
    {
     "name": "stdout",
     "output_type": "stream",
     "text": [
      "훈련 데이터의 점수= 1.0\n",
      "테스트 데이터의 점수= -1.3470701079024648e+16\n"
     ]
    }
   ],
   "source": [
    "import numpy as np\n",
    "from sklearn.model_selection import train_test_split\n",
    "from sklearn.preprocessing import PolynomialFeatures\n",
    "from sklearn.linear_model import LinearRegression\n",
    "\n",
    "#20개의 데이터를 생성\n",
    "m = 20\n",
    "X = 8 * np.random.rand(m, 1) - 4\n",
    "y = .5 * X ** 3 + .5 * X ** 2 + X + 3 + np.random.randn(m, 1)\n",
    "\n",
    "#20개의 데이터르르 학습용/테스용 데이터로 구분\n",
    "X_train, X_test, y_train, y_test = train_test_split(X, y)\n",
    "\n",
    "#다항 특성이 20개가 되도록 하자\n",
    "poly_features = PolynomialFeatures(degree = 20, include_bias=False)\n",
    "X_train_pl = poly_features.fit_transform(X_train)\n",
    "X_test_pl = poly_features.fit_transform(X_test)\n",
    "\n",
    "regr = LinearRegression()\n",
    "regr.fit(X_train_pl, y_train)\n",
    "\n",
    "print('훈련 데이터의 점수=', regr.score(X_train_pl, y_train).round(3))\n",
    "print('테스트 데이터의 점수=', regr.score(X_test_pl, y_test).round(3))"
   ]
  }
 ],
 "metadata": {
  "kernelspec": {
   "display_name": "0925basic",
   "language": "python",
   "name": "0925basic"
  },
  "language_info": {
   "codemirror_mode": {
    "name": "ipython",
    "version": 3
   },
   "file_extension": ".py",
   "mimetype": "text/x-python",
   "name": "python",
   "nbconvert_exporter": "python",
   "pygments_lexer": "ipython3",
   "version": "3.10.13"
  }
 },
 "nbformat": 4,
 "nbformat_minor": 5
}
