{
 "cells": [
  {
   "cell_type": "code",
   "execution_count": 4,
   "id": "d7cc7fea",
   "metadata": {
    "executionInfo": {
     "elapsed": 666,
     "status": "ok",
     "timestamp": 1689659133905,
     "user": {
      "displayName": "김형오",
      "userId": "12580521154359558487"
     },
     "user_tz": -540
    },
    "id": "d7cc7fea"
   },
   "outputs": [],
   "source": [
    "import tensorflow as tf\n",
    "from tensorflow import keras\n",
    "\n",
    "import numpy as np\n",
    "import matplotlib.pyplot as plt\n",
    "\n",
    "mnist = keras.datasets.mnist\n",
    "(train_images, train_labels), (test_images, test_labels) = mnist.load_data()\n",
    "(x_train, y_train), (x_test, y_test) = (train_images, train_labels), (test_images, test_labels)\n",
    "\n",
    "class_names = ['0','1','2','3','4','5','6','7','8','9']\n",
    "NUM_CLASSES = 10"
   ]
  },
  {
   "cell_type": "code",
   "execution_count": 10,
   "id": "df88f5ad",
   "metadata": {},
   "outputs": [
    {
     "data": {
      "text/plain": [
       "3"
      ]
     },
     "execution_count": 10,
     "metadata": {},
     "output_type": "execute_result"
    }
   ],
   "source": [
    "y_train.shape\n",
    "y_train[10]"
   ]
  },
  {
   "cell_type": "code",
   "execution_count": 12,
   "id": "dc9d5207",
   "metadata": {
    "colab": {
     "base_uri": "https://localhost:8080/"
    },
    "executionInfo": {
     "elapsed": 666,
     "status": "ok",
     "timestamp": 1689659138216,
     "user": {
      "displayName": "김형오",
      "userId": "12580521154359558487"
     },
     "user_tz": -540
    },
    "id": "dc9d5207",
    "outputId": "fb4032b4-22c0-495c-c171-60614798094a"
   },
   "outputs": [
    {
     "name": "stdout",
     "output_type": "stream",
     "text": [
      "converted y.shape =  (60000, 10)\n"
     ]
    }
   ],
   "source": [
    "from tensorflow.keras.utils import to_categorical\n",
    "\n",
    "x_train = x_train.reshape((60000, 28, 28, 1))\n",
    "x_test = x_test.reshape((10000, 28, 28, 1))\n",
    "\n",
    "x_train = x_train/255.\n",
    "x_test = x_test/255.\n",
    "\n",
    "y_train = to_categorical(y_train, NUM_CLASSES)\n",
    "y_test = to_categorical(y_test, NUM_CLASSES)\n",
    "print(\"converted y.shape = \", y_train.shape)"
   ]
  },
  {
   "cell_type": "code",
   "execution_count": 13,
   "id": "1a497a00",
   "metadata": {},
   "outputs": [
    {
     "data": {
      "text/plain": [
       "array([0., 0., 0., 1., 0., 0., 0., 0., 0., 0.], dtype=float32)"
      ]
     },
     "execution_count": 13,
     "metadata": {},
     "output_type": "execute_result"
    }
   ],
   "source": [
    "y_train[10]"
   ]
  },
  {
   "cell_type": "code",
   "execution_count": 16,
   "id": "7e7300c1",
   "metadata": {
    "colab": {
     "base_uri": "https://localhost:8080/",
     "height": 1000
    },
    "executionInfo": {
     "elapsed": 4171,
     "status": "ok",
     "timestamp": 1689659146416,
     "user": {
      "displayName": "김형오",
      "userId": "12580521154359558487"
     },
     "user_tz": -540
    },
    "id": "7e7300c1",
    "outputId": "d5641e2f-d2e3-4832-af0f-58cf8c261de7"
   },
   "outputs": [
    {
     "name": "stdout",
     "output_type": "stream",
     "text": [
      "Model: \"sequential_2\"\n",
      "_________________________________________________________________\n",
      " Layer (type)                Output Shape              Param #   \n",
      "=================================================================\n",
      " conv2d_6 (Conv2D)           (None, 26, 26, 32)        320       \n",
      "                                                                 \n",
      " max_pooling2d_4 (MaxPooling  (None, 13, 13, 32)       0         \n",
      " 2D)                                                             \n",
      "                                                                 \n",
      " conv2d_7 (Conv2D)           (None, 11, 11, 64)        18496     \n",
      "                                                                 \n",
      " max_pooling2d_5 (MaxPooling  (None, 5, 5, 64)         0         \n",
      " 2D)                                                             \n",
      "                                                                 \n",
      " conv2d_8 (Conv2D)           (None, 3, 3, 64)          36928     \n",
      "                                                                 \n",
      " flatten_2 (Flatten)         (None, 576)               0         \n",
      "                                                                 \n",
      " dense_4 (Dense)             (None, 64)                36928     \n",
      "                                                                 \n",
      " dense_5 (Dense)             (None, 10)                650       \n",
      "                                                                 \n",
      "=================================================================\n",
      "Total params: 93,322\n",
      "Trainable params: 93,322\n",
      "Non-trainable params: 0\n",
      "_________________________________________________________________\n"
     ]
    }
   ],
   "source": [
    "model = keras.Sequential([\n",
    "    keras.layers.Conv2D(32, (3,3), activation='relu', input_shape=(28,28,1)),\n",
    "    keras.layers.MaxPooling2D((2,2)),\n",
    "    keras.layers.Conv2D(64, (3,3), activation='relu'),\n",
    "    keras.layers.MaxPooling2D((2,2)),\n",
    "    keras.layers.Conv2D(64, (3,3), activation='relu'),\n",
    "    keras.layers.Flatten(),\n",
    "    keras.layers.Dense(64, activation='relu'),\n",
    "    keras.layers.Dense(10, activation='softmax')\n",
    "])\n",
    "\n",
    "model.summary()\n",
    "\n",
    "# import os\n",
    "# os.environ[\"PATH\"] += os.pathsep + 'C:/Program Files/Graphviz/bin'\n",
    "# from keras.utils import plot_model\n",
    "# plot_model(model, to_file='model_plot.png', show_shapes=True, show_layer_names=True)"
   ]
  },
  {
   "cell_type": "code",
   "execution_count": 17,
   "id": "f61fea34",
   "metadata": {
    "colab": {
     "base_uri": "https://localhost:8080/"
    },
    "executionInfo": {
     "elapsed": 506,
     "status": "ok",
     "timestamp": 1689659159657,
     "user": {
      "displayName": "김형오",
      "userId": "12580521154359558487"
     },
     "user_tz": -540
    },
    "id": "f61fea34",
    "outputId": "a8b1605f-62c1-4f04-f08c-a3c3d8b6d36d"
   },
   "outputs": [
    {
     "name": "stdout",
     "output_type": "stream",
     "text": [
      "(3, 3, 1, 32) (32,)\n",
      "[[-0.08760071 -0.06907376  0.0582044 ]\n",
      " [-0.12806888  0.06904279  0.01781847]\n",
      " [-0.11967925 -0.08082762  0.13073449]]\n"
     ]
    }
   ],
   "source": [
    "conv2d_1 = model.layers[0]\n",
    "weights = conv2d_1.get_weights()\n",
    "w = weights[0]\n",
    "b = weights[1]\n",
    "print(w.shape, b.shape)\n",
    "filter_id = 0\n",
    "kernel = w[:,:,:,filter_id:filter_id+1]\n",
    "kernel = kernel.reshape(3,3)\n",
    "print(kernel)"
   ]
  },
  {
   "cell_type": "code",
   "execution_count": 19,
   "id": "507ef0db",
   "metadata": {
    "colab": {
     "base_uri": "https://localhost:8080/"
    },
    "executionInfo": {
     "elapsed": 143822,
     "status": "ok",
     "timestamp": 1689659311660,
     "user": {
      "displayName": "김형오",
      "userId": "12580521154359558487"
     },
     "user_tz": -540
    },
    "id": "507ef0db",
    "outputId": "16d46438-41fb-4b08-cf13-702c5d59ecde",
    "scrolled": true
   },
   "outputs": [
    {
     "name": "stdout",
     "output_type": "stream",
     "text": [
      "Epoch 1/100\n",
      "1875/1875 [==============================] - 6s 3ms/step - loss: 0.0313 - accuracy: 0.9903\n",
      "Epoch 2/100\n",
      "1875/1875 [==============================] - 5s 3ms/step - loss: 0.0285 - accuracy: 0.9913\n",
      "Epoch 3/100\n",
      "1875/1875 [==============================] - 5s 3ms/step - loss: 0.0265 - accuracy: 0.9918\n",
      "Epoch 4/100\n",
      "1875/1875 [==============================] - 5s 3ms/step - loss: 0.0244 - accuracy: 0.9924\n",
      "Epoch 5/100\n",
      "1875/1875 [==============================] - 5s 3ms/step - loss: 0.0226 - accuracy: 0.9932\n",
      "Epoch 6/100\n",
      "1875/1875 [==============================] - 5s 3ms/step - loss: 0.0218 - accuracy: 0.9937\n",
      "Epoch 7/100\n",
      "1875/1875 [==============================] - 5s 3ms/step - loss: 0.0196 - accuracy: 0.9941\n",
      "Epoch 8/100\n",
      "1875/1875 [==============================] - 5s 3ms/step - loss: 0.0186 - accuracy: 0.9946\n",
      "Epoch 9/100\n",
      "1875/1875 [==============================] - 5s 3ms/step - loss: 0.0171 - accuracy: 0.9949\n",
      "Epoch 10/100\n",
      "1875/1875 [==============================] - 5s 3ms/step - loss: 0.0167 - accuracy: 0.9947\n",
      "Epoch 11/100\n",
      "1875/1875 [==============================] - 5s 3ms/step - loss: 0.0151 - accuracy: 0.9953\n",
      "Epoch 12/100\n",
      "1875/1875 [==============================] - 5s 3ms/step - loss: 0.0145 - accuracy: 0.9956\n",
      "Epoch 13/100\n",
      "1875/1875 [==============================] - 5s 3ms/step - loss: 0.0133 - accuracy: 0.9961\n",
      "Epoch 14/100\n",
      "1875/1875 [==============================] - 5s 3ms/step - loss: 0.0125 - accuracy: 0.9965\n",
      "Epoch 15/100\n",
      "1875/1875 [==============================] - 5s 3ms/step - loss: 0.0115 - accuracy: 0.9964\n",
      "Epoch 16/100\n",
      "1875/1875 [==============================] - 5s 3ms/step - loss: 0.0107 - accuracy: 0.9970\n",
      "Epoch 17/100\n",
      "1875/1875 [==============================] - 5s 3ms/step - loss: 0.0101 - accuracy: 0.9969\n",
      "Epoch 18/100\n",
      "1875/1875 [==============================] - 5s 3ms/step - loss: 0.0091 - accuracy: 0.9974\n",
      "Epoch 19/100\n",
      "1875/1875 [==============================] - 5s 3ms/step - loss: 0.0090 - accuracy: 0.9974\n",
      "Epoch 20/100\n",
      "1875/1875 [==============================] - 5s 3ms/step - loss: 0.0077 - accuracy: 0.9978\n",
      "Epoch 21/100\n",
      "1875/1875 [==============================] - 5s 3ms/step - loss: 0.0076 - accuracy: 0.9979\n",
      "Epoch 22/100\n",
      "1875/1875 [==============================] - 5s 3ms/step - loss: 0.0069 - accuracy: 0.9981\n",
      "Epoch 23/100\n",
      "1875/1875 [==============================] - 5s 3ms/step - loss: 0.0060 - accuracy: 0.9985\n",
      "Epoch 24/100\n",
      "1875/1875 [==============================] - 5s 3ms/step - loss: 0.0062 - accuracy: 0.9984\n",
      "Epoch 25/100\n",
      "1875/1875 [==============================] - 5s 3ms/step - loss: 0.0060 - accuracy: 0.9983\n",
      "Epoch 26/100\n",
      "1875/1875 [==============================] - 5s 3ms/step - loss: 0.0049 - accuracy: 0.9988\n",
      "Epoch 27/100\n",
      "1875/1875 [==============================] - 5s 3ms/step - loss: 0.0048 - accuracy: 0.9987\n",
      "Epoch 28/100\n",
      "1875/1875 [==============================] - 5s 3ms/step - loss: 0.0045 - accuracy: 0.9989\n",
      "Epoch 29/100\n",
      "1875/1875 [==============================] - 5s 3ms/step - loss: 0.0041 - accuracy: 0.9989\n",
      "Epoch 30/100\n",
      "1875/1875 [==============================] - 5s 3ms/step - loss: 0.0040 - accuracy: 0.9989\n",
      "Epoch 31/100\n",
      "1875/1875 [==============================] - 5s 3ms/step - loss: 0.0032 - accuracy: 0.9993\n",
      "Epoch 32/100\n",
      "1875/1875 [==============================] - 5s 3ms/step - loss: 0.0028 - accuracy: 0.9992\n",
      "Epoch 33/100\n",
      "1875/1875 [==============================] - 5s 3ms/step - loss: 0.0024 - accuracy: 0.9996\n",
      "Epoch 34/100\n",
      "1875/1875 [==============================] - 5s 3ms/step - loss: 0.0025 - accuracy: 0.9995\n",
      "Epoch 35/100\n",
      "1875/1875 [==============================] - 5s 3ms/step - loss: 0.0020 - accuracy: 0.9996\n",
      "Epoch 36/100\n",
      "1875/1875 [==============================] - 5s 3ms/step - loss: 0.0022 - accuracy: 0.9996\n",
      "Epoch 37/100\n",
      "1875/1875 [==============================] - 5s 3ms/step - loss: 0.0019 - accuracy: 0.9997\n",
      "Epoch 38/100\n",
      "1875/1875 [==============================] - 5s 3ms/step - loss: 0.0014 - accuracy: 0.9999\n",
      "Epoch 39/100\n",
      "1875/1875 [==============================] - 5s 3ms/step - loss: 0.0012 - accuracy: 0.9999\n",
      "Epoch 40/100\n",
      "1875/1875 [==============================] - 5s 3ms/step - loss: 0.0014 - accuracy: 0.9998\n",
      "Epoch 41/100\n",
      "1875/1875 [==============================] - 5s 3ms/step - loss: 0.0014 - accuracy: 0.9998\n",
      "Epoch 42/100\n",
      "1875/1875 [==============================] - 5s 3ms/step - loss: 0.0018 - accuracy: 0.9997\n",
      "Epoch 43/100\n",
      "1875/1875 [==============================] - 5s 3ms/step - loss: 0.0011 - accuracy: 0.9999\n",
      "Epoch 44/100\n",
      "1875/1875 [==============================] - 5s 3ms/step - loss: 0.0013 - accuracy: 0.9998\n",
      "Epoch 45/100\n",
      "1875/1875 [==============================] - 5s 3ms/step - loss: 9.8860e-04 - accuracy: 0.9999\n",
      "Epoch 46/100\n",
      "1875/1875 [==============================] - 5s 3ms/step - loss: 9.9091e-04 - accuracy: 0.9999\n",
      "Epoch 47/100\n",
      "1875/1875 [==============================] - 5s 3ms/step - loss: 7.8172e-04 - accuracy: 0.9999\n",
      "Epoch 48/100\n",
      "1875/1875 [==============================] - 5s 3ms/step - loss: 9.5567e-04 - accuracy: 0.9998\n",
      "Epoch 49/100\n",
      "1875/1875 [==============================] - 5s 3ms/step - loss: 6.2166e-04 - accuracy: 1.0000\n",
      "Epoch 50/100\n",
      "1875/1875 [==============================] - 5s 3ms/step - loss: 6.1042e-04 - accuracy: 0.9999\n",
      "Epoch 51/100\n",
      "1875/1875 [==============================] - 5s 3ms/step - loss: 5.3637e-04 - accuracy: 1.0000\n",
      "Epoch 52/100\n",
      "1875/1875 [==============================] - 5s 3ms/step - loss: 5.6222e-04 - accuracy: 1.0000\n",
      "Epoch 53/100\n",
      "1875/1875 [==============================] - 5s 3ms/step - loss: 4.4446e-04 - accuracy: 1.0000\n",
      "Epoch 54/100\n",
      "1875/1875 [==============================] - 5s 3ms/step - loss: 4.8702e-04 - accuracy: 0.9999\n",
      "Epoch 55/100\n",
      "1875/1875 [==============================] - 5s 3ms/step - loss: 3.9811e-04 - accuracy: 1.0000\n",
      "Epoch 56/100\n",
      "1875/1875 [==============================] - 5s 3ms/step - loss: 3.8210e-04 - accuracy: 1.0000\n",
      "Epoch 57/100\n",
      "1875/1875 [==============================] - 5s 3ms/step - loss: 3.4425e-04 - accuracy: 1.0000\n",
      "Epoch 58/100\n",
      "1875/1875 [==============================] - 5s 3ms/step - loss: 3.5072e-04 - accuracy: 1.0000\n",
      "Epoch 59/100\n",
      "1875/1875 [==============================] - 5s 3ms/step - loss: 3.3875e-04 - accuracy: 1.0000\n",
      "Epoch 60/100\n",
      "1875/1875 [==============================] - 5s 3ms/step - loss: 3.0428e-04 - accuracy: 1.0000\n",
      "Epoch 61/100\n",
      "1875/1875 [==============================] - 5s 3ms/step - loss: 3.1122e-04 - accuracy: 1.0000\n",
      "Epoch 62/100\n",
      "1875/1875 [==============================] - 5s 3ms/step - loss: 3.0009e-04 - accuracy: 1.0000\n",
      "Epoch 63/100\n",
      "1875/1875 [==============================] - 5s 3ms/step - loss: 2.8430e-04 - accuracy: 1.0000\n",
      "Epoch 64/100\n",
      "1875/1875 [==============================] - 5s 3ms/step - loss: 2.8754e-04 - accuracy: 1.0000\n",
      "Epoch 65/100\n",
      "1875/1875 [==============================] - 5s 3ms/step - loss: 2.6931e-04 - accuracy: 1.0000\n",
      "Epoch 66/100\n",
      "1875/1875 [==============================] - 5s 3ms/step - loss: 2.5709e-04 - accuracy: 1.0000\n",
      "Epoch 67/100\n",
      "1875/1875 [==============================] - 5s 3ms/step - loss: 2.4809e-04 - accuracy: 1.0000\n",
      "Epoch 68/100\n",
      "1875/1875 [==============================] - 5s 3ms/step - loss: 2.3896e-04 - accuracy: 1.0000\n",
      "Epoch 69/100\n",
      "1875/1875 [==============================] - 5s 3ms/step - loss: 2.3854e-04 - accuracy: 1.0000\n",
      "Epoch 70/100\n",
      "1875/1875 [==============================] - 5s 3ms/step - loss: 2.3192e-04 - accuracy: 1.0000\n",
      "Epoch 71/100\n",
      "1875/1875 [==============================] - 5s 3ms/step - loss: 2.2218e-04 - accuracy: 1.0000\n",
      "Epoch 72/100\n",
      "1875/1875 [==============================] - 5s 3ms/step - loss: 2.1449e-04 - accuracy: 1.0000\n",
      "Epoch 73/100\n",
      "1875/1875 [==============================] - 5s 3ms/step - loss: 2.0939e-04 - accuracy: 1.0000\n",
      "Epoch 74/100\n",
      "1875/1875 [==============================] - 5s 3ms/step - loss: 2.0442e-04 - accuracy: 1.0000\n",
      "Epoch 75/100\n",
      "1875/1875 [==============================] - 5s 3ms/step - loss: 1.9521e-04 - accuracy: 1.0000\n",
      "Epoch 76/100\n",
      "1875/1875 [==============================] - 5s 3ms/step - loss: 1.9356e-04 - accuracy: 1.0000\n",
      "Epoch 77/100\n",
      "1875/1875 [==============================] - 5s 3ms/step - loss: 1.8895e-04 - accuracy: 1.0000\n",
      "Epoch 78/100\n"
     ]
    },
    {
     "name": "stdout",
     "output_type": "stream",
     "text": [
      "1875/1875 [==============================] - 5s 3ms/step - loss: 1.8765e-04 - accuracy: 1.0000\n",
      "Epoch 79/100\n",
      "1875/1875 [==============================] - 5s 3ms/step - loss: 1.8114e-04 - accuracy: 1.0000\n",
      "Epoch 80/100\n",
      "1875/1875 [==============================] - 5s 3ms/step - loss: 1.7935e-04 - accuracy: 1.0000\n",
      "Epoch 81/100\n",
      "1875/1875 [==============================] - 5s 3ms/step - loss: 1.7232e-04 - accuracy: 1.0000\n",
      "Epoch 82/100\n",
      "1875/1875 [==============================] - 5s 3ms/step - loss: 1.6880e-04 - accuracy: 1.0000\n",
      "Epoch 83/100\n",
      "1875/1875 [==============================] - 5s 3ms/step - loss: 1.6649e-04 - accuracy: 1.0000\n",
      "Epoch 84/100\n",
      "1875/1875 [==============================] - 5s 3ms/step - loss: 1.6422e-04 - accuracy: 1.0000\n",
      "Epoch 85/100\n",
      "1875/1875 [==============================] - 5s 3ms/step - loss: 1.5795e-04 - accuracy: 1.0000\n",
      "Epoch 86/100\n",
      "1875/1875 [==============================] - 5s 3ms/step - loss: 1.5483e-04 - accuracy: 1.0000\n",
      "Epoch 87/100\n",
      "1875/1875 [==============================] - 5s 3ms/step - loss: 1.5328e-04 - accuracy: 1.0000\n",
      "Epoch 88/100\n",
      "1875/1875 [==============================] - 5s 3ms/step - loss: 1.5145e-04 - accuracy: 1.0000\n",
      "Epoch 89/100\n",
      "1875/1875 [==============================] - 5s 3ms/step - loss: 1.4626e-04 - accuracy: 1.0000\n",
      "Epoch 90/100\n",
      "1875/1875 [==============================] - 5s 3ms/step - loss: 1.4604e-04 - accuracy: 1.0000\n",
      "Epoch 91/100\n",
      "1875/1875 [==============================] - 5s 3ms/step - loss: 1.4297e-04 - accuracy: 1.0000\n",
      "Epoch 92/100\n",
      "1875/1875 [==============================] - 5s 3ms/step - loss: 1.3946e-04 - accuracy: 1.0000\n",
      "Epoch 93/100\n",
      "1875/1875 [==============================] - 5s 3ms/step - loss: 1.3770e-04 - accuracy: 1.0000\n",
      "Epoch 94/100\n",
      "1875/1875 [==============================] - 5s 3ms/step - loss: 1.3595e-04 - accuracy: 1.0000\n",
      "Epoch 95/100\n",
      "1875/1875 [==============================] - 5s 3ms/step - loss: 1.3143e-04 - accuracy: 1.0000\n",
      "Epoch 96/100\n",
      "1875/1875 [==============================] - 5s 3ms/step - loss: 1.2831e-04 - accuracy: 1.0000\n",
      "Epoch 97/100\n",
      "1875/1875 [==============================] - 5s 3ms/step - loss: 1.2815e-04 - accuracy: 1.0000\n",
      "Epoch 98/100\n",
      "1875/1875 [==============================] - 5s 3ms/step - loss: 1.2352e-04 - accuracy: 1.0000\n",
      "Epoch 99/100\n",
      "1875/1875 [==============================] - 5s 3ms/step - loss: 1.2429e-04 - accuracy: 1.0000\n",
      "Epoch 100/100\n",
      "1875/1875 [==============================] - 5s 3ms/step - loss: 1.2097e-04 - accuracy: 1.0000\n"
     ]
    }
   ],
   "source": [
    "model.compile(optimizer='sgd',\n",
    "             loss='categorical_crossentropy',\n",
    "             metrics=['accuracy'])\n",
    "history = model.fit(x_train, y_train, epochs=100)"
   ]
  },
  {
   "cell_type": "code",
   "execution_count": 20,
   "id": "44700999",
   "metadata": {
    "colab": {
     "base_uri": "https://localhost:8080/",
     "height": 472
    },
    "executionInfo": {
     "elapsed": 8,
     "status": "ok",
     "timestamp": 1689659311661,
     "user": {
      "displayName": "김형오",
      "userId": "12580521154359558487"
     },
     "user_tz": -540
    },
    "id": "44700999",
    "outputId": "68840780-69c8-40f2-b9de-8af2a069d50a"
   },
   "outputs": [
    {
     "data": {
      "image/png": "[encoded data removed]",
      "text/plain": [
       "<Figure size 640x480 with 1 Axes>"
      ]
     },
     "metadata": {},
     "output_type": "display_data"
    }
   ],
   "source": [
    "plt.plot(history.history['accuracy'])\n",
    "plt.plot(history.history['loss'])\n",
    "plt.title('train history')\n",
    "plt.ylabel('accuracy')\n",
    "plt.xlabel('epoch')\n",
    "plt.legend(['accuracy', 'loss'], loc='upper left')\n",
    "plt.show()"
   ]
  },
  {
   "cell_type": "code",
   "execution_count": 21,
   "id": "285c6cbd",
   "metadata": {
    "colab": {
     "base_uri": "https://localhost:8080/"
    },
    "executionInfo": {
     "elapsed": 1911,
     "status": "ok",
     "timestamp": 1689659320832,
     "user": {
      "displayName": "김형오",
      "userId": "12580521154359558487"
     },
     "user_tz": -540
    },
    "id": "285c6cbd",
    "outputId": "48cb450b-eef3-4b28-c15f-73e58d7061d4"
   },
   "outputs": [
    {
     "name": "stdout",
     "output_type": "stream",
     "text": [
      "313/313 [==============================] - 1s 3ms/step - loss: 0.0417 - accuracy: 0.9918\n"
     ]
    }
   ],
   "source": [
    "loss, accuracy = model.evaluate(x_test, y_test)"
   ]
  },
  {
   "cell_type": "code",
   "execution_count": 22,
   "id": "mn0Wf8OdwP7j",
   "metadata": {
    "colab": {
     "base_uri": "https://localhost:8080/"
    },
    "executionInfo": {
     "elapsed": 493,
     "status": "ok",
     "timestamp": 1689659329447,
     "user": {
      "displayName": "김형오",
      "userId": "12580521154359558487"
     },
     "user_tz": -540
    },
    "id": "mn0Wf8OdwP7j",
    "outputId": "5ab4bcbe-8362-4251-f8fa-1fed2d642c49"
   },
   "outputs": [
    {
     "name": "stdout",
     "output_type": "stream",
     "text": [
      "1/1 [==============================] - 0s 280ms/step\n",
      "[7.1571464e-26 5.5468123e-21 1.1951480e-27 5.3755043e-04 1.0467848e-22\n",
      " 9.9946243e-01 1.5427373e-25 4.4277543e-22 4.9221542e-15 2.4692527e-15]\n",
      "1.0\n"
     ]
    }
   ],
   "source": [
    "preds = model.predict(x_train[0:1])\n",
    "print(preds[0])\n",
    "print(preds[0].sum())"
   ]
  },
  {
   "cell_type": "code",
   "execution_count": 23,
   "id": "wgE36GBbwe9Y",
   "metadata": {
    "colab": {
     "base_uri": "https://localhost:8080/",
     "height": 1000
    },
    "executionInfo": {
     "elapsed": 84667,
     "status": "ok",
     "timestamp": 1687735585909,
     "user": {
      "displayName": "김형오",
      "userId": "12580521154359558487"
     },
     "user_tz": -540
    },
    "id": "wgE36GBbwe9Y",
    "outputId": "cd45bd59-f1cd-41bc-ec86-c4ff64c62750"
   },
   "outputs": [
    {
     "name": "stdout",
     "output_type": "stream",
     "text": [
      "Model: \"sequential_3\"\n",
      "_________________________________________________________________\n",
      " Layer (type)                Output Shape              Param #   \n",
      "=================================================================\n",
      " flatten_3 (Flatten)         (None, 784)               0         \n",
      "                                                                 \n",
      " dense_6 (Dense)             (None, 128)               100480    \n",
      "                                                                 \n",
      " dense_7 (Dense)             (None, 10)                1290      \n",
      "                                                                 \n",
      "=================================================================\n",
      "Total params: 101,770\n",
      "Trainable params: 101,770\n",
      "Non-trainable params: 0\n",
      "_________________________________________________________________\n",
      "Epoch 1/10\n",
      "1875/1875 [==============================] - 5s 2ms/step - loss: 0.6488 - accuracy: 0.8375\n",
      "Epoch 2/10\n",
      "1875/1875 [==============================] - 4s 2ms/step - loss: 0.3336 - accuracy: 0.9074\n",
      "Epoch 3/10\n",
      "1875/1875 [==============================] - 4s 2ms/step - loss: 0.2841 - accuracy: 0.9197\n",
      "Epoch 4/10\n",
      "1875/1875 [==============================] - 4s 2ms/step - loss: 0.2528 - accuracy: 0.9283\n",
      "Epoch 5/10\n",
      "1875/1875 [==============================] - 4s 2ms/step - loss: 0.2304 - accuracy: 0.9355\n",
      "Epoch 6/10\n",
      "1875/1875 [==============================] - 4s 2ms/step - loss: 0.2120 - accuracy: 0.9409\n",
      "Epoch 7/10\n",
      "1875/1875 [==============================] - 4s 2ms/step - loss: 0.1973 - accuracy: 0.9450\n",
      "Epoch 8/10\n",
      "1875/1875 [==============================] - 4s 2ms/step - loss: 0.1845 - accuracy: 0.9480\n",
      "Epoch 9/10\n",
      "1875/1875 [==============================] - 4s 2ms/step - loss: 0.1730 - accuracy: 0.9516\n",
      "Epoch 10/10\n",
      "1875/1875 [==============================] - 4s 2ms/step - loss: 0.1635 - accuracy: 0.9544\n"
     ]
    },
    {
     "data": {
      "image/png": "[encoded data removed]",
      "text/plain": [
       "<Figure size 640x480 with 1 Axes>"
      ]
     },
     "metadata": {},
     "output_type": "display_data"
    },
    {
     "name": "stdout",
     "output_type": "stream",
     "text": [
      "313/313 [==============================] - 1s 2ms/step - loss: 0.1600 - accuracy: 0.9543\n"
     ]
    }
   ],
   "source": [
    "modelfc = keras.Sequential([\n",
    "    keras.layers.Flatten(input_shape=(28,28,1)),\n",
    "    keras.layers.Dense(128, activation='relu'),\n",
    "    keras.layers.Dense(10, activation='softmax')\n",
    "])\n",
    "\n",
    "modelfc.summary()\n",
    "modelfc.compile(optimizer = 'sgd',\n",
    "                loss='categorical_crossentropy',\n",
    "                metrics=['accuracy'])\n",
    "history = modelfc.fit(x_train, y_train, epochs=10)\n",
    "\n",
    "plt.plot(history.history['accuracy'])\n",
    "plt.plot(history.history['loss'])\n",
    "plt.title('train history')\n",
    "plt.ylabel('accuracy')\n",
    "plt.xlabel('epoch')\n",
    "plt.legend(['accuracy', 'loss'], loc='upper left')\n",
    "plt.show()\n",
    "\n",
    "loss, accuracy = modelfc.evaluate(x_test, y_test)"
   ]
  },
  {
   "cell_type": "code",
   "execution_count": null,
   "id": "CqbHr7LFyALZ",
   "metadata": {
    "colab": {
     "base_uri": "https://localhost:8080/",
     "height": 540
    },
    "executionInfo": {
     "elapsed": 771,
     "status": "ok",
     "timestamp": 1687735626699,
     "user": {
      "displayName": "김형오",
      "userId": "12580521154359558487"
     },
     "user_tz": -540
    },
    "id": "CqbHr7LFyALZ",
    "outputId": "d39c43f3-4e67-42f0-9a95-a2336e67d9ae"
   },
   "outputs": [],
   "source": [
    "from tensorflow.keras import backend as K\n",
    "\n",
    "inp = model.input\n",
    "outputs = [layer.output for layer in model.layers]\n",
    "functors = [K.function([inp, keras.Input(shape=())], [out]) for out in outputs]\n",
    "\n",
    "layer_id = 0\n",
    "filter_id = 0\n",
    "layerfn = functors[layer_id]\n",
    "learning_phase = 0\n",
    "out = layerfn([x_train[0:2], learning_phase])\n",
    "\n",
    "print('out[0].shape =', out[0].shape)\n",
    "result = out[0][0][:,:,filter_id:filter_id+1]\n",
    "\n",
    "print('model result shape (with channel) = ', result.shape)\n",
    "\n",
    "result_as_img = result.reshape((result.shape[0], result.shape[1]))\n",
    "print(result_as_img.shape)\n",
    "\n",
    "plt.imshow(x_train[0].reshape((28,28)), cmap=plt.cm.binary)\n",
    "plt.show()\n",
    "x_pos = 10\n",
    "y_pos = 5\n",
    "img3x3 = x_train[0][y_pos:y_pos+3, x_pos:x_pos+3, :].reshape((3,3))\n",
    "print(img3x3)"
   ]
  },
  {
   "cell_type": "code",
   "execution_count": null,
   "id": "GCRDmSwE4VeF",
   "metadata": {
    "colab": {
     "base_uri": "https://localhost:8080/"
    },
    "executionInfo": {
     "elapsed": 411,
     "status": "ok",
     "timestamp": 1687735851719,
     "user": {
      "displayName": "김형오",
      "userId": "12580521154359558487"
     },
     "user_tz": -540
    },
    "id": "GCRDmSwE4VeF",
    "outputId": "50592d6a-45d5-47fe-cb2a-4fb26f1e520d"
   },
   "outputs": [],
   "source": [
    "conv2d_l = model.layers[0]\n",
    "weights = conv2d_l.get_weights()\n",
    "w = weights[0]\n",
    "b = weights[1]\n",
    "print(w.shape, b.shape)\n",
    "filter_id = 0\n",
    "kernel = w[:,:,:,filter_id:filter_id+1]\n",
    "kernel = kernel.reshape(3,3)\n",
    "print(kernel)\n",
    "bias = b[0]\n",
    "print(bias)\n",
    "print(img3x3)"
   ]
  },
  {
   "cell_type": "code",
   "execution_count": null,
   "id": "D8WgG---5VZ0",
   "metadata": {
    "colab": {
     "base_uri": "https://localhost:8080/"
    },
    "executionInfo": {
     "elapsed": 2,
     "status": "ok",
     "timestamp": 1687735990534,
     "user": {
      "displayName": "김형오",
      "userId": "12580521154359558487"
     },
     "user_tz": -540
    },
    "id": "D8WgG---5VZ0",
    "outputId": "4057cec5-163d-42aa-dc99-abed7d029280"
   },
   "outputs": [],
   "source": [
    "y = (kernel*img3x3).sum()+bias\n",
    "if y < 0:\n",
    "  y = 0\n",
    "print(y)\n",
    "print(result[y_pos][x_pos])"
   ]
  },
  {
   "cell_type": "code",
   "execution_count": null,
   "id": "vTXCZlLw53VM",
   "metadata": {
    "id": "vTXCZlLw53VM"
   },
   "outputs": [],
   "source": []
  }
 ],
 "metadata": {
  "accelerator": "GPU",
  "colab": {
   "gpuType": "T4",
   "provenance": []
  },
  "kernelspec": {
   "display_name": "tensor210py310",
   "language": "python",
   "name": "tensor210py310"
  },
  "language_info": {
   "codemirror_mode": {
    "name": "ipython",
    "version": 3
   },
   "file_extension": ".py",
   "mimetype": "text/x-python",
   "name": "python",
   "nbconvert_exporter": "python",
   "pygments_lexer": "ipython3",
   "version": "3.10.12"
  }
 },
 "nbformat": 4,
 "nbformat_minor": 5
}
