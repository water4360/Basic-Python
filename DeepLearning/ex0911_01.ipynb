{
 "cells": [
  {
   "cell_type": "markdown",
   "id": "300c44e0",
   "metadata": {},
   "source": [
    "# 01 지능형 로봇을 위한 시각지능_v4.pdf"
   ]
  },
  {
   "cell_type": "markdown",
   "id": "8cc35980",
   "metadata": {},
   "source": [
    "## 8p~"
   ]
  },
  {
   "cell_type": "code",
   "execution_count": 20,
   "id": "4cc927bb",
   "metadata": {},
   "outputs": [
    {
     "name": "stdout",
     "output_type": "stream",
     "text": [
      "(3, 3)\n",
      "0\n"
     ]
    }
   ],
   "source": [
    "# 흑백greyscale\n",
    "import numpy as np\n",
    "from PIL import Image\n",
    "\n",
    "image = np.array(\n",
    "[[255, 255, 255],\n",
    " [255, 0, 0],\n",
    " [255, 255,  0]]\n",
    ")\n",
    "\n",
    "print(image.shape)\n",
    "print(image[1][2])\n",
    "\n",
    "img = Image.fromarray(image)\n",
    "img.show()"
   ]
  },
  {
   "cell_type": "code",
   "execution_count": 30,
   "id": "92622c0e",
   "metadata": {},
   "outputs": [
    {
     "name": "stdout",
     "output_type": "stream",
     "text": [
      "(3, 3, 3)\n",
      "255\n"
     ]
    }
   ],
   "source": [
    "# 컬러color\n",
    "image = np.array(\n",
    "[[[255, 255, 255],[0, 0, 0],[128, 128, 128]],\n",
    " [[255, 0, 0],[0, 255, 0],[0, 0, 255]],\n",
    " [[255, 255,  0],[255, 0, 255],[0, 255, 255]]]\n",
    ")\n",
    "\n",
    "print(image.shape)\n",
    "print(image[1][2][2])\n",
    "\n",
    "img = Image.fromarray(image.astype(np.uint8))\n",
    "img.show()"
   ]
  },
  {
   "cell_type": "code",
   "execution_count": 47,
   "id": "daff8d0b",
   "metadata": {},
   "outputs": [
    {
     "data": {
      "text/plain": [
       "array([[255, 255, 255],\n",
       "       [  0,   0,   0],\n",
       "       [128, 128, 128]])"
      ]
     },
     "execution_count": 47,
     "metadata": {},
     "output_type": "execute_result"
    }
   ],
   "source": [
    "# 상하 뒤집기\n",
    "color_image = np.array(\n",
    "[ [[255, 255, 255],[0, 0, 0],[128, 128, 128]],\n",
    "  [[255, 0, 0],[0, 255, 0],[0, 0, 255]],\n",
    "  [[255, 255,  0],[255, 0, 255],[0, 255, 255]] ]\n",
    ")\n",
    "\n",
    "reversed_image = np.array(image[0])\n",
    "\n",
    "# print(color_image.shape)\n",
    "# print(color_image[1][2][2])\n",
    "\n",
    "\n",
    "# clrimg = Image.fromarray(color_image.astype(np.uint8))\n",
    "# clrimg.show()\n",
    "# r_image = Image.fromarray(reversed_image.astype(np.uint8))\n",
    "# r_image.show()"
   ]
  },
  {
   "cell_type": "code",
   "execution_count": 48,
   "id": "c77cd390",
   "metadata": {},
   "outputs": [
    {
     "data": {
      "text/plain": [
       "array([[255, 255, 255],\n",
       "       [  0,   0,   0],\n",
       "       [128, 128, 128]])"
      ]
     },
     "execution_count": 48,
     "metadata": {},
     "output_type": "execute_result"
    }
   ],
   "source": [
    "image[0]"
   ]
  },
  {
   "cell_type": "code",
   "execution_count": 55,
   "id": "48d0826a",
   "metadata": {},
   "outputs": [
    {
     "name": "stdout",
     "output_type": "stream",
     "text": [
      "[[255 255   0]\n",
      " [255   0 255]\n",
      " [  0 255 255]\n",
      " [255   0   0]\n",
      " [  0 255   0]\n",
      " [  0   0 255]\n",
      " [255 255 255]\n",
      " [  0   0   0]\n",
      " [128 128 128]]\n"
     ]
    }
   ],
   "source": [
    "newimage = image[2]\n",
    "newimage = np.vstack([newimage, image[1], image[0]])\n",
    "reversed_image = np.array(newimage)\n",
    "print(reversed_image)\n",
    "\n",
    "#shape을 써서...?"
   ]
  },
  {
   "cell_type": "markdown",
   "id": "39288292",
   "metadata": {},
   "source": [
    "# 9p. Affine Transform"
   ]
  },
  {
   "cell_type": "code",
   "execution_count": 56,
   "id": "4f57bd71",
   "metadata": {},
   "outputs": [],
   "source": [
    "import numpy as np\n",
    "import cv2 #openCV 라이브러리"
   ]
  },
  {
   "cell_type": "code",
   "execution_count": null,
   "id": "4c03eb3b",
   "metadata": {},
   "outputs": [],
   "source": [
    "img = cv2.imread('checkerboard_pattern.png')\n",
    "# 이미지가 컬러로 되어있을 수도 있으므로 BGR로 변경\n",
    "img = cv2.cvtColor(img, cv2.COLOR_BGR2RGB)\n",
    "\n",
    "#점point 추가\n",
    "pts1 = np.float32([[100, 100], [180, 100], [200,200]])\n",
    "pts2 = np.float32([[100, 100], [190, 120], [220,220]])\n",
    "\n",
    "M = cv2.getAffineTransform(pts1, pts2)\n",
    "dst = cv2.warpAffine(img, M, img.shape[:2])\n",
    "\n",
    "cv2.circle(img, pts1[0].astype(np.uint8), 2, (255,0,0), 2)\n",
    "cv2.circle(img, pts1[1].astype(np.uint8), 2, (0,255,0), 2)\n",
    "cv2.circle(img, pts1[2].astype(np.uint8), 2, (0,0,255), 2)\n",
    "\n",
    "cv2.circle(dst, pts2[0].astype(np.uint8), 2, (255,0,0), 2)\n",
    "cv2.circle(dst, pts2[1].astype(np.uint8), 2, (0,255,0), 2)\n",
    "cv2.circle(dst, pts2[2].astype(np.uint8), 2, (0,0,255), 2)\n",
    "\n",
    "cv2.imshow('Original', img)\n",
    "cv2.imshow('Affine', dst)\n",
    "\n",
    "cv2.waitKey(0)\n",
    "cv2.destroyAllWindows"
   ]
  }
 ],
 "metadata": {
  "kernelspec": {
   "display_name": "tensor210py310",
   "language": "python",
   "name": "tensor210py310"
  },
  "language_info": {
   "codemirror_mode": {
    "name": "ipython",
    "version": 3
   },
   "file_extension": ".py",
   "mimetype": "text/x-python",
   "name": "python",
   "nbconvert_exporter": "python",
   "pygments_lexer": "ipython3",
   "version": "3.10.12"
  }
 },
 "nbformat": 4,
 "nbformat_minor": 5
}
